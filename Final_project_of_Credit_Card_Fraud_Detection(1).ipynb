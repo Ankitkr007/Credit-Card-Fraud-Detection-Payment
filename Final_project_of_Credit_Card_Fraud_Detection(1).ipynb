{
  "nbformat": 4,
  "nbformat_minor": 0,
  "metadata": {
    "colab": {
      "provenance": []
    },
    "kernelspec": {
      "name": "python3",
      "display_name": "Python 3"
    },
    "language_info": {
      "name": "python"
    }
  },
  "cells": [
    {
      "cell_type": "code",
      "execution_count": null,
      "metadata": {
        "id": "34JyRMYzl5F7"
      },
      "outputs": [],
      "source": [
        "import pandas as pd\n",
        "import seaborn as sns\n",
        "import matplotlib.pyplot as plt"
      ]
    },
    {
      "cell_type": "code",
      "source": [
        "!pip install -U scikit-learn"
      ],
      "metadata": {
        "colab": {
          "base_uri": "https://localhost:8080/"
        },
        "id": "hTkxyR5uoKja",
        "outputId": "fb4b7f10-a259-4467-f576-523df825b618"
      },
      "execution_count": null,
      "outputs": [
        {
          "output_type": "stream",
          "name": "stdout",
          "text": [
            "Looking in indexes: https://pypi.org/simple, https://us-python.pkg.dev/colab-wheels/public/simple/\n",
            "Requirement already satisfied: scikit-learn in /usr/local/lib/python3.8/dist-packages (1.2.0)\n",
            "Requirement already satisfied: threadpoolctl>=2.0.0 in /usr/local/lib/python3.8/dist-packages (from scikit-learn) (3.1.0)\n",
            "Requirement already satisfied: joblib>=1.1.1 in /usr/local/lib/python3.8/dist-packages (from scikit-learn) (1.2.0)\n",
            "Requirement already satisfied: scipy>=1.3.2 in /usr/local/lib/python3.8/dist-packages (from scikit-learn) (1.7.3)\n",
            "Requirement already satisfied: numpy>=1.17.3 in /usr/local/lib/python3.8/dist-packages (from scikit-learn) (1.21.6)\n"
          ]
        }
      ]
    },
    {
      "cell_type": "code",
      "source": [
        "data=pd.read_csv('/content/data4.csv')"
      ],
      "metadata": {
        "id": "4b6S8lesmF3j"
      },
      "execution_count": null,
      "outputs": []
    },
    {
      "cell_type": "code",
      "source": [
        "data.head()"
      ],
      "metadata": {
        "colab": {
          "base_uri": "https://localhost:8080/",
          "height": 288
        },
        "id": "FsjvxMIHmW_8",
        "outputId": "84071e8f-7f5c-4271-d437-d3bbcba2f4ae"
      },
      "execution_count": null,
      "outputs": [
        {
          "output_type": "execute_result",
          "data": {
            "text/plain": [
              "   Unnamed: 0  step      type     amount     nameOrig  oldbalanceOrig  \\\n",
              "0     4664938   330  CASH_OUT  129328.39  C1074072753             0.0   \n",
              "1     3533252   259  CASH_OUT  243879.86   C538474946             0.0   \n",
              "2     4656054   330   PAYMENT    4842.50  C1287637309             0.0   \n",
              "3     4164440   304  CASH_OUT   22218.01   C238330570             0.0   \n",
              "4     4081499   301  CASH_OUT  445921.93  C1256416335          4092.0   \n",
              "\n",
              "   newbalanceOrig     nameDest  oldbalanceDest  newbalanceDest  isFraud  \n",
              "0             0.0  C2012503134      1293646.35      1422974.73      0.0  \n",
              "1             0.0   C972069609      6772791.88      7016671.73      0.0  \n",
              "2             0.0  M1876888696            0.00            0.00      0.0  \n",
              "3             0.0   C170292643       756643.32       778861.33      0.0  \n",
              "4             0.0  C1816206335        80548.08       526470.01      0.0  "
            ],
            "text/html": [
              "\n",
              "  <div id=\"df-d1e91557-23e6-48ad-b953-5a70cf8fd541\">\n",
              "    <div class=\"colab-df-container\">\n",
              "      <div>\n",
              "<style scoped>\n",
              "    .dataframe tbody tr th:only-of-type {\n",
              "        vertical-align: middle;\n",
              "    }\n",
              "\n",
              "    .dataframe tbody tr th {\n",
              "        vertical-align: top;\n",
              "    }\n",
              "\n",
              "    .dataframe thead th {\n",
              "        text-align: right;\n",
              "    }\n",
              "</style>\n",
              "<table border=\"1\" class=\"dataframe\">\n",
              "  <thead>\n",
              "    <tr style=\"text-align: right;\">\n",
              "      <th></th>\n",
              "      <th>Unnamed: 0</th>\n",
              "      <th>step</th>\n",
              "      <th>type</th>\n",
              "      <th>amount</th>\n",
              "      <th>nameOrig</th>\n",
              "      <th>oldbalanceOrig</th>\n",
              "      <th>newbalanceOrig</th>\n",
              "      <th>nameDest</th>\n",
              "      <th>oldbalanceDest</th>\n",
              "      <th>newbalanceDest</th>\n",
              "      <th>isFraud</th>\n",
              "    </tr>\n",
              "  </thead>\n",
              "  <tbody>\n",
              "    <tr>\n",
              "      <th>0</th>\n",
              "      <td>4664938</td>\n",
              "      <td>330</td>\n",
              "      <td>CASH_OUT</td>\n",
              "      <td>129328.39</td>\n",
              "      <td>C1074072753</td>\n",
              "      <td>0.0</td>\n",
              "      <td>0.0</td>\n",
              "      <td>C2012503134</td>\n",
              "      <td>1293646.35</td>\n",
              "      <td>1422974.73</td>\n",
              "      <td>0.0</td>\n",
              "    </tr>\n",
              "    <tr>\n",
              "      <th>1</th>\n",
              "      <td>3533252</td>\n",
              "      <td>259</td>\n",
              "      <td>CASH_OUT</td>\n",
              "      <td>243879.86</td>\n",
              "      <td>C538474946</td>\n",
              "      <td>0.0</td>\n",
              "      <td>0.0</td>\n",
              "      <td>C972069609</td>\n",
              "      <td>6772791.88</td>\n",
              "      <td>7016671.73</td>\n",
              "      <td>0.0</td>\n",
              "    </tr>\n",
              "    <tr>\n",
              "      <th>2</th>\n",
              "      <td>4656054</td>\n",
              "      <td>330</td>\n",
              "      <td>PAYMENT</td>\n",
              "      <td>4842.50</td>\n",
              "      <td>C1287637309</td>\n",
              "      <td>0.0</td>\n",
              "      <td>0.0</td>\n",
              "      <td>M1876888696</td>\n",
              "      <td>0.00</td>\n",
              "      <td>0.00</td>\n",
              "      <td>0.0</td>\n",
              "    </tr>\n",
              "    <tr>\n",
              "      <th>3</th>\n",
              "      <td>4164440</td>\n",
              "      <td>304</td>\n",
              "      <td>CASH_OUT</td>\n",
              "      <td>22218.01</td>\n",
              "      <td>C238330570</td>\n",
              "      <td>0.0</td>\n",
              "      <td>0.0</td>\n",
              "      <td>C170292643</td>\n",
              "      <td>756643.32</td>\n",
              "      <td>778861.33</td>\n",
              "      <td>0.0</td>\n",
              "    </tr>\n",
              "    <tr>\n",
              "      <th>4</th>\n",
              "      <td>4081499</td>\n",
              "      <td>301</td>\n",
              "      <td>CASH_OUT</td>\n",
              "      <td>445921.93</td>\n",
              "      <td>C1256416335</td>\n",
              "      <td>4092.0</td>\n",
              "      <td>0.0</td>\n",
              "      <td>C1816206335</td>\n",
              "      <td>80548.08</td>\n",
              "      <td>526470.01</td>\n",
              "      <td>0.0</td>\n",
              "    </tr>\n",
              "  </tbody>\n",
              "</table>\n",
              "</div>\n",
              "      <button class=\"colab-df-convert\" onclick=\"convertToInteractive('df-d1e91557-23e6-48ad-b953-5a70cf8fd541')\"\n",
              "              title=\"Convert this dataframe to an interactive table.\"\n",
              "              style=\"display:none;\">\n",
              "        \n",
              "  <svg xmlns=\"http://www.w3.org/2000/svg\" height=\"24px\"viewBox=\"0 0 24 24\"\n",
              "       width=\"24px\">\n",
              "    <path d=\"M0 0h24v24H0V0z\" fill=\"none\"/>\n",
              "    <path d=\"M18.56 5.44l.94 2.06.94-2.06 2.06-.94-2.06-.94-.94-2.06-.94 2.06-2.06.94zm-11 1L8.5 8.5l.94-2.06 2.06-.94-2.06-.94L8.5 2.5l-.94 2.06-2.06.94zm10 10l.94 2.06.94-2.06 2.06-.94-2.06-.94-.94-2.06-.94 2.06-2.06.94z\"/><path d=\"M17.41 7.96l-1.37-1.37c-.4-.4-.92-.59-1.43-.59-.52 0-1.04.2-1.43.59L10.3 9.45l-7.72 7.72c-.78.78-.78 2.05 0 2.83L4 21.41c.39.39.9.59 1.41.59.51 0 1.02-.2 1.41-.59l7.78-7.78 2.81-2.81c.8-.78.8-2.07 0-2.86zM5.41 20L4 18.59l7.72-7.72 1.47 1.35L5.41 20z\"/>\n",
              "  </svg>\n",
              "      </button>\n",
              "      \n",
              "  <style>\n",
              "    .colab-df-container {\n",
              "      display:flex;\n",
              "      flex-wrap:wrap;\n",
              "      gap: 12px;\n",
              "    }\n",
              "\n",
              "    .colab-df-convert {\n",
              "      background-color: #E8F0FE;\n",
              "      border: none;\n",
              "      border-radius: 50%;\n",
              "      cursor: pointer;\n",
              "      display: none;\n",
              "      fill: #1967D2;\n",
              "      height: 32px;\n",
              "      padding: 0 0 0 0;\n",
              "      width: 32px;\n",
              "    }\n",
              "\n",
              "    .colab-df-convert:hover {\n",
              "      background-color: #E2EBFA;\n",
              "      box-shadow: 0px 1px 2px rgba(60, 64, 67, 0.3), 0px 1px 3px 1px rgba(60, 64, 67, 0.15);\n",
              "      fill: #174EA6;\n",
              "    }\n",
              "\n",
              "    [theme=dark] .colab-df-convert {\n",
              "      background-color: #3B4455;\n",
              "      fill: #D2E3FC;\n",
              "    }\n",
              "\n",
              "    [theme=dark] .colab-df-convert:hover {\n",
              "      background-color: #434B5C;\n",
              "      box-shadow: 0px 1px 3px 1px rgba(0, 0, 0, 0.15);\n",
              "      filter: drop-shadow(0px 1px 2px rgba(0, 0, 0, 0.3));\n",
              "      fill: #FFFFFF;\n",
              "    }\n",
              "  </style>\n",
              "\n",
              "      <script>\n",
              "        const buttonEl =\n",
              "          document.querySelector('#df-d1e91557-23e6-48ad-b953-5a70cf8fd541 button.colab-df-convert');\n",
              "        buttonEl.style.display =\n",
              "          google.colab.kernel.accessAllowed ? 'block' : 'none';\n",
              "\n",
              "        async function convertToInteractive(key) {\n",
              "          const element = document.querySelector('#df-d1e91557-23e6-48ad-b953-5a70cf8fd541');\n",
              "          const dataTable =\n",
              "            await google.colab.kernel.invokeFunction('convertToInteractive',\n",
              "                                                     [key], {});\n",
              "          if (!dataTable) return;\n",
              "\n",
              "          const docLinkHtml = 'Like what you see? Visit the ' +\n",
              "            '<a target=\"_blank\" href=https://colab.research.google.com/notebooks/data_table.ipynb>data table notebook</a>'\n",
              "            + ' to learn more about interactive tables.';\n",
              "          element.innerHTML = '';\n",
              "          dataTable['output_type'] = 'display_data';\n",
              "          await google.colab.output.renderOutput(dataTable, element);\n",
              "          const docLink = document.createElement('div');\n",
              "          docLink.innerHTML = docLinkHtml;\n",
              "          element.appendChild(docLink);\n",
              "        }\n",
              "      </script>\n",
              "    </div>\n",
              "  </div>\n",
              "  "
            ]
          },
          "metadata": {},
          "execution_count": 73
        }
      ]
    },
    {
      "cell_type": "code",
      "source": [
        "data.shape"
      ],
      "metadata": {
        "colab": {
          "base_uri": "https://localhost:8080/"
        },
        "id": "XeqRHSaxmYra",
        "outputId": "057f9708-6509-4d57-e2cf-6f17c208d3cb"
      },
      "execution_count": null,
      "outputs": [
        {
          "output_type": "execute_result",
          "data": {
            "text/plain": [
              "(15541, 11)"
            ]
          },
          "metadata": {},
          "execution_count": 74
        }
      ]
    },
    {
      "cell_type": "code",
      "source": [
        "data.isnull().sum().sum()"
      ],
      "metadata": {
        "colab": {
          "base_uri": "https://localhost:8080/"
        },
        "id": "d22HK5MPmciA",
        "outputId": "3c74f9ca-f478-4959-9a3f-b7444a057a6c"
      },
      "execution_count": null,
      "outputs": [
        {
          "output_type": "execute_result",
          "data": {
            "text/plain": [
              "0"
            ]
          },
          "metadata": {},
          "execution_count": 75
        }
      ]
    },
    {
      "cell_type": "code",
      "source": [
        "data.keys()"
      ],
      "metadata": {
        "colab": {
          "base_uri": "https://localhost:8080/"
        },
        "id": "Em6CSlLHmhTJ",
        "outputId": "4ee3bfe9-e8a8-425b-ad1c-e9c56c4ed56d"
      },
      "execution_count": null,
      "outputs": [
        {
          "output_type": "execute_result",
          "data": {
            "text/plain": [
              "Index(['Unnamed: 0', 'step', 'type', 'amount', 'nameOrig', 'oldbalanceOrig',\n",
              "       'newbalanceOrig', 'nameDest', 'oldbalanceDest', 'newbalanceDest',\n",
              "       'isFraud'],\n",
              "      dtype='object')"
            ]
          },
          "metadata": {},
          "execution_count": 76
        }
      ]
    },
    {
      "cell_type": "code",
      "source": [
        "data.info()"
      ],
      "metadata": {
        "colab": {
          "base_uri": "https://localhost:8080/"
        },
        "id": "SFXpWPeSmoAn",
        "outputId": "4d7eebb3-ffce-40a6-8f14-5f602eadf0cb"
      },
      "execution_count": null,
      "outputs": [
        {
          "output_type": "stream",
          "name": "stdout",
          "text": [
            "<class 'pandas.core.frame.DataFrame'>\n",
            "RangeIndex: 15541 entries, 0 to 15540\n",
            "Data columns (total 11 columns):\n",
            " #   Column          Non-Null Count  Dtype  \n",
            "---  ------          --------------  -----  \n",
            " 0   Unnamed: 0      15541 non-null  int64  \n",
            " 1   step            15541 non-null  int64  \n",
            " 2   type            15541 non-null  object \n",
            " 3   amount          15541 non-null  float64\n",
            " 4   nameOrig        15541 non-null  object \n",
            " 5   oldbalanceOrig  15541 non-null  float64\n",
            " 6   newbalanceOrig  15541 non-null  float64\n",
            " 7   nameDest        15541 non-null  object \n",
            " 8   oldbalanceDest  15541 non-null  float64\n",
            " 9   newbalanceDest  15541 non-null  float64\n",
            " 10  isFraud         15541 non-null  float64\n",
            "dtypes: float64(6), int64(2), object(3)\n",
            "memory usage: 1.3+ MB\n"
          ]
        }
      ]
    },
    {
      "cell_type": "code",
      "source": [
        "data=data.drop(['Unnamed: 0','nameOrig','nameDest'],axis=1)"
      ],
      "metadata": {
        "id": "EIlR77GlnUiW"
      },
      "execution_count": null,
      "outputs": []
    },
    {
      "cell_type": "code",
      "source": [
        "data.shape"
      ],
      "metadata": {
        "colab": {
          "base_uri": "https://localhost:8080/"
        },
        "id": "hY0VElhBnq_K",
        "outputId": "ca768d97-3815-4954-a88d-1a0b76ed6107"
      },
      "execution_count": null,
      "outputs": [
        {
          "output_type": "execute_result",
          "data": {
            "text/plain": [
              "(15541, 8)"
            ]
          },
          "metadata": {},
          "execution_count": 79
        }
      ]
    },
    {
      "cell_type": "code",
      "source": [
        "data['isFraud'].value_counts()"
      ],
      "metadata": {
        "colab": {
          "base_uri": "https://localhost:8080/"
        },
        "id": "575oCMKspLq3",
        "outputId": "bd58eedf-348d-4d5b-ff20-86aacc22e57c"
      },
      "execution_count": null,
      "outputs": [
        {
          "output_type": "execute_result",
          "data": {
            "text/plain": [
              "0.0    11000\n",
              "1.0     4541\n",
              "Name: isFraud, dtype: int64"
            ]
          },
          "metadata": {},
          "execution_count": 80
        }
      ]
    },
    {
      "cell_type": "code",
      "source": [
        "plt.pie(data['isFraud'].value_counts(),labels=['Not_Fraud','Fraud'],autopct='%0.2f%%')\n",
        "plt.show()"
      ],
      "metadata": {
        "colab": {
          "base_uri": "https://localhost:8080/",
          "height": 248
        },
        "id": "ZXrjiWBDN9Vu",
        "outputId": "10b5e672-dfc0-4a6d-9a41-e7e09d78b039"
      },
      "execution_count": null,
      "outputs": [
        {
          "output_type": "display_data",
          "data": {
            "text/plain": [
              "<Figure size 432x288 with 1 Axes>"
            ],
            "image/png": "[encoded data removed]"
          },
          "metadata": {}
        }
      ]
    },
    {
      "cell_type": "code",
      "source": [
        "#sns.countplot('isFraud',data=data)\n",
        "sns.countplot(data=data, x=\"type\", hue=\"isFraud\")\n",
        "plt.show()"
      ],
      "metadata": {
        "colab": {
          "base_uri": "https://localhost:8080/",
          "height": 280
        },
        "id": "fMOfNGZgOtgQ",
        "outputId": "4d6d33b6-bf71-43af-c312-bc270501f9c0"
      },
      "execution_count": null,
      "outputs": [
        {
          "output_type": "display_data",
          "data": {
            "text/plain": [
              "<Figure size 432x288 with 1 Axes>"
            ],
            "image/png": "[encoded data removed]"
          },
          "metadata": {
            "needs_background": "light"
          }
        }
      ]
    },
    {
      "cell_type": "code",
      "source": [
        "plt.figure(figsize=(6,8))\n",
        "sns.countplot(data=data, x=\"isFraud\", hue=\"type\")\n",
        "plt.show()"
      ],
      "metadata": {
        "colab": {
          "base_uri": "https://localhost:8080/",
          "height": 497
        },
        "id": "eoZVeMpzQx0O",
        "outputId": "60b3d270-0a92-486e-f82b-e62429d4fd1a"
      },
      "execution_count": null,
      "outputs": [
        {
          "output_type": "display_data",
          "data": {
            "text/plain": [
              "<Figure size 432x576 with 1 Axes>"
            ],
            "image/png": "[encoded data removed]"
          },
          "metadata": {
            "needs_background": "light"
          }
        }
      ]
    },
    {
      "cell_type": "code",
      "source": [
        "data.tail()"
      ],
      "metadata": {
        "colab": {
          "base_uri": "https://localhost:8080/",
          "height": 206
        },
        "id": "TqIvpvO8nxlK",
        "outputId": "5365f30b-577b-4b57-f7e7-c7e03ea7cf34"
      },
      "execution_count": null,
      "outputs": [
        {
          "output_type": "execute_result",
          "data": {
            "text/plain": [
              "       step      type     amount  oldbalanceOrig  newbalanceOrig  \\\n",
              "15536   404  CASH_OUT  540914.12       540914.12             0.0   \n",
              "15537   404  TRANSFER  932691.00       932691.00             0.0   \n",
              "15538   404  CASH_OUT  932691.00       932691.00             0.0   \n",
              "15539   405  TRANSFER  973805.75       973805.75             0.0   \n",
              "15540   405  CASH_OUT  973805.75       973805.75             0.0   \n",
              "\n",
              "       oldbalanceDest  newbalanceDest  isFraud  \n",
              "15536        36447.52       577361.64      1.0  \n",
              "15537            0.00            0.00      1.0  \n",
              "15538        93390.82      1026081.82      1.0  \n",
              "15539            0.00            0.00      1.0  \n",
              "15540            0.00       973805.75      1.0  "
            ],
            "text/html": [
              "\n",
              "  <div id=\"df-5eb0cd9a-bf7f-4c02-9a01-b27abbf8b248\">\n",
              "    <div class=\"colab-df-container\">\n",
              "      <div>\n",
              "<style scoped>\n",
              "    .dataframe tbody tr th:only-of-type {\n",
              "        vertical-align: middle;\n",
              "    }\n",
              "\n",
              "    .dataframe tbody tr th {\n",
              "        vertical-align: top;\n",
              "    }\n",
              "\n",
              "    .dataframe thead th {\n",
              "        text-align: right;\n",
              "    }\n",
              "</style>\n",
              "<table border=\"1\" class=\"dataframe\">\n",
              "  <thead>\n",
              "    <tr style=\"text-align: right;\">\n",
              "      <th></th>\n",
              "      <th>step</th>\n",
              "      <th>type</th>\n",
              "      <th>amount</th>\n",
              "      <th>oldbalanceOrig</th>\n",
              "      <th>newbalanceOrig</th>\n",
              "      <th>oldbalanceDest</th>\n",
              "      <th>newbalanceDest</th>\n",
              "      <th>isFraud</th>\n",
              "    </tr>\n",
              "  </thead>\n",
              "  <tbody>\n",
              "    <tr>\n",
              "      <th>15536</th>\n",
              "      <td>404</td>\n",
              "      <td>CASH_OUT</td>\n",
              "      <td>540914.12</td>\n",
              "      <td>540914.12</td>\n",
              "      <td>0.0</td>\n",
              "      <td>36447.52</td>\n",
              "      <td>577361.64</td>\n",
              "      <td>1.0</td>\n",
              "    </tr>\n",
              "    <tr>\n",
              "      <th>15537</th>\n",
              "      <td>404</td>\n",
              "      <td>TRANSFER</td>\n",
              "      <td>932691.00</td>\n",
              "      <td>932691.00</td>\n",
              "      <td>0.0</td>\n",
              "      <td>0.00</td>\n",
              "      <td>0.00</td>\n",
              "      <td>1.0</td>\n",
              "    </tr>\n",
              "    <tr>\n",
              "      <th>15538</th>\n",
              "      <td>404</td>\n",
              "      <td>CASH_OUT</td>\n",
              "      <td>932691.00</td>\n",
              "      <td>932691.00</td>\n",
              "      <td>0.0</td>\n",
              "      <td>93390.82</td>\n",
              "      <td>1026081.82</td>\n",
              "      <td>1.0</td>\n",
              "    </tr>\n",
              "    <tr>\n",
              "      <th>15539</th>\n",
              "      <td>405</td>\n",
              "      <td>TRANSFER</td>\n",
              "      <td>973805.75</td>\n",
              "      <td>973805.75</td>\n",
              "      <td>0.0</td>\n",
              "      <td>0.00</td>\n",
              "      <td>0.00</td>\n",
              "      <td>1.0</td>\n",
              "    </tr>\n",
              "    <tr>\n",
              "      <th>15540</th>\n",
              "      <td>405</td>\n",
              "      <td>CASH_OUT</td>\n",
              "      <td>973805.75</td>\n",
              "      <td>973805.75</td>\n",
              "      <td>0.0</td>\n",
              "      <td>0.00</td>\n",
              "      <td>973805.75</td>\n",
              "      <td>1.0</td>\n",
              "    </tr>\n",
              "  </tbody>\n",
              "</table>\n",
              "</div>\n",
              "      <button class=\"colab-df-convert\" onclick=\"convertToInteractive('df-5eb0cd9a-bf7f-4c02-9a01-b27abbf8b248')\"\n",
              "              title=\"Convert this dataframe to an interactive table.\"\n",
              "              style=\"display:none;\">\n",
              "        \n",
              "  <svg xmlns=\"http://www.w3.org/2000/svg\" height=\"24px\"viewBox=\"0 0 24 24\"\n",
              "       width=\"24px\">\n",
              "    <path d=\"M0 0h24v24H0V0z\" fill=\"none\"/>\n",
              "    <path d=\"M18.56 5.44l.94 2.06.94-2.06 2.06-.94-2.06-.94-.94-2.06-.94 2.06-2.06.94zm-11 1L8.5 8.5l.94-2.06 2.06-.94-2.06-.94L8.5 2.5l-.94 2.06-2.06.94zm10 10l.94 2.06.94-2.06 2.06-.94-2.06-.94-.94-2.06-.94 2.06-2.06.94z\"/><path d=\"M17.41 7.96l-1.37-1.37c-.4-.4-.92-.59-1.43-.59-.52 0-1.04.2-1.43.59L10.3 9.45l-7.72 7.72c-.78.78-.78 2.05 0 2.83L4 21.41c.39.39.9.59 1.41.59.51 0 1.02-.2 1.41-.59l7.78-7.78 2.81-2.81c.8-.78.8-2.07 0-2.86zM5.41 20L4 18.59l7.72-7.72 1.47 1.35L5.41 20z\"/>\n",
              "  </svg>\n",
              "      </button>\n",
              "      \n",
              "  <style>\n",
              "    .colab-df-container {\n",
              "      display:flex;\n",
              "      flex-wrap:wrap;\n",
              "      gap: 12px;\n",
              "    }\n",
              "\n",
              "    .colab-df-convert {\n",
              "      background-color: #E8F0FE;\n",
              "      border: none;\n",
              "      border-radius: 50%;\n",
              "      cursor: pointer;\n",
              "      display: none;\n",
              "      fill: #1967D2;\n",
              "      height: 32px;\n",
              "      padding: 0 0 0 0;\n",
              "      width: 32px;\n",
              "    }\n",
              "\n",
              "    .colab-df-convert:hover {\n",
              "      background-color: #E2EBFA;\n",
              "      box-shadow: 0px 1px 2px rgba(60, 64, 67, 0.3), 0px 1px 3px 1px rgba(60, 64, 67, 0.15);\n",
              "      fill: #174EA6;\n",
              "    }\n",
              "\n",
              "    [theme=dark] .colab-df-convert {\n",
              "      background-color: #3B4455;\n",
              "      fill: #D2E3FC;\n",
              "    }\n",
              "\n",
              "    [theme=dark] .colab-df-convert:hover {\n",
              "      background-color: #434B5C;\n",
              "      box-shadow: 0px 1px 3px 1px rgba(0, 0, 0, 0.15);\n",
              "      filter: drop-shadow(0px 1px 2px rgba(0, 0, 0, 0.3));\n",
              "      fill: #FFFFFF;\n",
              "    }\n",
              "  </style>\n",
              "\n",
              "      <script>\n",
              "        const buttonEl =\n",
              "          document.querySelector('#df-5eb0cd9a-bf7f-4c02-9a01-b27abbf8b248 button.colab-df-convert');\n",
              "        buttonEl.style.display =\n",
              "          google.colab.kernel.accessAllowed ? 'block' : 'none';\n",
              "\n",
              "        async function convertToInteractive(key) {\n",
              "          const element = document.querySelector('#df-5eb0cd9a-bf7f-4c02-9a01-b27abbf8b248');\n",
              "          const dataTable =\n",
              "            await google.colab.kernel.invokeFunction('convertToInteractive',\n",
              "                                                     [key], {});\n",
              "          if (!dataTable) return;\n",
              "\n",
              "          const docLinkHtml = 'Like what you see? Visit the ' +\n",
              "            '<a target=\"_blank\" href=https://colab.research.google.com/notebooks/data_table.ipynb>data table notebook</a>'\n",
              "            + ' to learn more about interactive tables.';\n",
              "          element.innerHTML = '';\n",
              "          dataTable['output_type'] = 'display_data';\n",
              "          await google.colab.output.renderOutput(dataTable, element);\n",
              "          const docLink = document.createElement('div');\n",
              "          docLink.innerHTML = docLinkHtml;\n",
              "          element.appendChild(docLink);\n",
              "        }\n",
              "      </script>\n",
              "    </div>\n",
              "  </div>\n",
              "  "
            ]
          },
          "metadata": {},
          "execution_count": 84
        }
      ]
    },
    {
      "cell_type": "code",
      "source": [
        "data['type'].value_counts()"
      ],
      "metadata": {
        "colab": {
          "base_uri": "https://localhost:8080/"
        },
        "id": "JYF57bXFmq5i",
        "outputId": "5a858e4a-40cc-456d-d110-1082f7823f11"
      },
      "execution_count": null,
      "outputs": [
        {
          "output_type": "execute_result",
          "data": {
            "text/plain": [
              "CASH_OUT    6180\n",
              "PAYMENT     3746\n",
              "TRANSFER    3180\n",
              "CASH_IN     2352\n",
              "DEBIT         83\n",
              "Name: type, dtype: int64"
            ]
          },
          "metadata": {},
          "execution_count": 85
        }
      ]
    },
    {
      "cell_type": "code",
      "source": [
        "dict1={'CASH_OUT':0,'TRANSFER':1,'PAYMENT':2,'CASH_IN':3,'DEBIT':4}"
      ],
      "metadata": {
        "id": "mwWOLNlZn1Az"
      },
      "execution_count": null,
      "outputs": []
    },
    {
      "cell_type": "code",
      "source": [
        "data['type']=data['type'].map(dict1)"
      ],
      "metadata": {
        "id": "bPVbrGnUoZSc"
      },
      "execution_count": null,
      "outputs": []
    },
    {
      "cell_type": "code",
      "source": [
        "data.head(50)"
      ],
      "metadata": {
        "colab": {
          "base_uri": "https://localhost:8080/",
          "height": 1000
        },
        "id": "tmofywPVoiVb",
        "outputId": "5f6f23ab-d905-4154-9af5-ed4528714f3e"
      },
      "execution_count": null,
      "outputs": [
        {
          "output_type": "execute_result",
          "data": {
            "text/plain": [
              "    step  type     amount  oldbalanceOrig  newbalanceOrig  oldbalanceDest  \\\n",
              "0    330     0  129328.39            0.00            0.00      1293646.35   \n",
              "1    259     0  243879.86            0.00            0.00      6772791.88   \n",
              "2    330     2    4842.50            0.00            0.00            0.00   \n",
              "3    304     0   22218.01            0.00            0.00       756643.32   \n",
              "4    301     0  445921.93         4092.00            0.00        80548.08   \n",
              "5    354     3  221105.22      9134524.17      9355629.40       455044.31   \n",
              "6    179     3  276374.50     27481172.07     27757546.58      1433538.51   \n",
              "7    260     1  118942.05            0.00            0.00       928862.25   \n",
              "8    354     1  356775.44            0.00            0.00     11997632.45   \n",
              "9    119     2   17615.05       301557.94       283942.89            0.00   \n",
              "10   233     1  627369.90       121916.00            0.00            0.00   \n",
              "11   119     2   25796.57            0.00            0.00            0.00   \n",
              "12   284     3   44868.69         5379.00        50247.69       124617.92   \n",
              "13    36     0  193345.22        36071.00            0.00            0.00   \n",
              "14   306     0  255272.63            0.00            0.00       347799.93   \n",
              "15   303     2    6443.17       514652.14       508208.97            0.00   \n",
              "16   372     3  226020.75          295.00       226315.75            0.00   \n",
              "17    43     2   17858.28        18178.00          319.72            0.00   \n",
              "18   163     3  394027.63     13178512.44     13572540.07      2721752.20   \n",
              "19   359     2   22741.35        13534.93            0.00            0.00   \n",
              "20   306     3  243420.69       142531.12       385951.80       486872.48   \n",
              "21   405     0  234953.67            0.00            0.00      3081364.66   \n",
              "22   331     3  157898.98     10045792.29     10203691.27     13395139.51   \n",
              "23   163     0   60562.51       129412.00        68849.49            0.00   \n",
              "24   178     0   93884.77        43022.00            0.00       781080.44   \n",
              "25   185     2   12570.56            0.00            0.00            0.00   \n",
              "26    10     3  707943.79       106565.00       814508.79      1156074.13   \n",
              "27    33     3  132598.77      1558675.92      1691274.69       388299.13   \n",
              "28   377     2     217.33            0.00            0.00            0.00   \n",
              "29   206     3  224688.57       137057.00       361745.57            0.00   \n",
              "30   229     2    4649.42        47023.00        42373.58            0.00   \n",
              "31   396     0  292883.59          595.00            0.00            0.00   \n",
              "32   371     0  138787.31        31909.00            0.00            0.00   \n",
              "33   285     0   41803.32            0.00            0.00       158827.73   \n",
              "34   329     3  252669.39        51622.00       304291.39       955896.99   \n",
              "35    18     3  550058.01        61448.00       611506.01       912190.48   \n",
              "36   307     2    8940.07            0.00            0.00            0.00   \n",
              "37   184     2   10720.01            0.00            0.00            0.00   \n",
              "38   251     2   50162.48       286043.50       235881.02            0.00   \n",
              "39    17     0  169407.82         3860.00            0.00      1101923.03   \n",
              "40   141     2   11219.25        23856.00        12636.75            0.00   \n",
              "41   140     3   94091.78        20305.00       114396.78            0.00   \n",
              "42   130     0  133283.77            0.00            0.00       275846.00   \n",
              "43   178     0  465517.61        21818.00            0.00        45508.08   \n",
              "44   378     0  201060.79           69.00            0.00       987165.95   \n",
              "45   398     0   59652.17            0.00            0.00      1298315.89   \n",
              "46   204     0  105878.84       932380.00       826501.16        64929.07   \n",
              "47   280     2    3036.65            0.00            0.00            0.00   \n",
              "48   347     0   72869.58            0.00            0.00       359161.21   \n",
              "49   398     0  325360.30         9902.00            0.00       231753.08   \n",
              "\n",
              "    newbalanceDest  isFraud  \n",
              "0       1422974.73      0.0  \n",
              "1       7016671.73      0.0  \n",
              "2             0.00      0.0  \n",
              "3        778861.33      0.0  \n",
              "4        526470.01      0.0  \n",
              "5        233939.08      0.0  \n",
              "6       1157164.01      0.0  \n",
              "7       1047804.31      0.0  \n",
              "8      12354407.90      0.0  \n",
              "9             0.00      0.0  \n",
              "10       821214.41      0.0  \n",
              "11            0.00      0.0  \n",
              "12        79749.23      0.0  \n",
              "13       193345.22      0.0  \n",
              "14       603072.57      0.0  \n",
              "15            0.00      0.0  \n",
              "16            0.00      0.0  \n",
              "17            0.00      0.0  \n",
              "18      2327724.56      0.0  \n",
              "19            0.00      0.0  \n",
              "20       243451.79      0.0  \n",
              "21      3316318.33      0.0  \n",
              "22     13237240.52      0.0  \n",
              "23        60562.51      0.0  \n",
              "24       874965.22      0.0  \n",
              "25            0.00      0.0  \n",
              "26       917829.92      0.0  \n",
              "27       255700.36      0.0  \n",
              "28            0.00      0.0  \n",
              "29            0.00      0.0  \n",
              "30            0.00      0.0  \n",
              "31       292883.59      0.0  \n",
              "32       138787.31      0.0  \n",
              "33       200631.05      0.0  \n",
              "34       703227.60      0.0  \n",
              "35            0.00      0.0  \n",
              "36            0.00      0.0  \n",
              "37            0.00      0.0  \n",
              "38            0.00      0.0  \n",
              "39      1271330.85      0.0  \n",
              "40            0.00      0.0  \n",
              "41            0.00      0.0  \n",
              "42       409129.77      0.0  \n",
              "43       511025.68      0.0  \n",
              "44      1188226.74      0.0  \n",
              "45      1357968.07      0.0  \n",
              "46       170807.91      0.0  \n",
              "47            0.00      0.0  \n",
              "48       432030.79      0.0  \n",
              "49       557113.38      0.0  "
            ],
            "text/html": [
              "\n",
              "  <div id=\"df-c8ca6aec-82df-4976-b43b-3e6f279197b6\">\n",
              "    <div class=\"colab-df-container\">\n",
              "      <div>\n",
              "<style scoped>\n",
              "    .dataframe tbody tr th:only-of-type {\n",
              "        vertical-align: middle;\n",
              "    }\n",
              "\n",
              "    .dataframe tbody tr th {\n",
              "        vertical-align: top;\n",
              "    }\n",
              "\n",
              "    .dataframe thead th {\n",
              "        text-align: right;\n",
              "    }\n",
              "</style>\n",
              "<table border=\"1\" class=\"dataframe\">\n",
              "  <thead>\n",
              "    <tr style=\"text-align: right;\">\n",
              "      <th></th>\n",
              "      <th>step</th>\n",
              "      <th>type</th>\n",
              "      <th>amount</th>\n",
              "      <th>oldbalanceOrig</th>\n",
              "      <th>newbalanceOrig</th>\n",
              "      <th>oldbalanceDest</th>\n",
              "      <th>newbalanceDest</th>\n",
              "      <th>isFraud</th>\n",
              "    </tr>\n",
              "  </thead>\n",
              "  <tbody>\n",
              "    <tr>\n",
              "      <th>0</th>\n",
              "      <td>330</td>\n",
              "      <td>0</td>\n",
              "      <td>129328.39</td>\n",
              "      <td>0.00</td>\n",
              "      <td>0.00</td>\n",
              "      <td>1293646.35</td>\n",
              "      <td>1422974.73</td>\n",
              "      <td>0.0</td>\n",
              "    </tr>\n",
              "    <tr>\n",
              "      <th>1</th>\n",
              "      <td>259</td>\n",
              "      <td>0</td>\n",
              "      <td>243879.86</td>\n",
              "      <td>0.00</td>\n",
              "      <td>0.00</td>\n",
              "      <td>6772791.88</td>\n",
              "      <td>7016671.73</td>\n",
              "      <td>0.0</td>\n",
              "    </tr>\n",
              "    <tr>\n",
              "      <th>2</th>\n",
              "      <td>330</td>\n",
              "      <td>2</td>\n",
              "      <td>4842.50</td>\n",
              "      <td>0.00</td>\n",
              "      <td>0.00</td>\n",
              "      <td>0.00</td>\n",
              "      <td>0.00</td>\n",
              "      <td>0.0</td>\n",
              "    </tr>\n",
              "    <tr>\n",
              "      <th>3</th>\n",
              "      <td>304</td>\n",
              "      <td>0</td>\n",
              "      <td>22218.01</td>\n",
              "      <td>0.00</td>\n",
              "      <td>0.00</td>\n",
              "      <td>756643.32</td>\n",
              "      <td>778861.33</td>\n",
              "      <td>0.0</td>\n",
              "    </tr>\n",
              "    <tr>\n",
              "      <th>4</th>\n",
              "      <td>301</td>\n",
              "      <td>0</td>\n",
              "      <td>445921.93</td>\n",
              "      <td>4092.00</td>\n",
              "      <td>0.00</td>\n",
              "      <td>80548.08</td>\n",
              "      <td>526470.01</td>\n",
              "      <td>0.0</td>\n",
              "    </tr>\n",
              "    <tr>\n",
              "      <th>5</th>\n",
              "      <td>354</td>\n",
              "      <td>3</td>\n",
              "      <td>221105.22</td>\n",
              "      <td>9134524.17</td>\n",
              "      <td>9355629.40</td>\n",
              "      <td>455044.31</td>\n",
              "      <td>233939.08</td>\n",
              "      <td>0.0</td>\n",
              "    </tr>\n",
              "    <tr>\n",
              "      <th>6</th>\n",
              "      <td>179</td>\n",
              "      <td>3</td>\n",
              "      <td>276374.50</td>\n",
              "      <td>27481172.07</td>\n",
              "      <td>27757546.58</td>\n",
              "      <td>1433538.51</td>\n",
              "      <td>1157164.01</td>\n",
              "      <td>0.0</td>\n",
              "    </tr>\n",
              "    <tr>\n",
              "      <th>7</th>\n",
              "      <td>260</td>\n",
              "      <td>1</td>\n",
              "      <td>118942.05</td>\n",
              "      <td>0.00</td>\n",
              "      <td>0.00</td>\n",
              "      <td>928862.25</td>\n",
              "      <td>1047804.31</td>\n",
              "      <td>0.0</td>\n",
              "    </tr>\n",
              "    <tr>\n",
              "      <th>8</th>\n",
              "      <td>354</td>\n",
              "      <td>1</td>\n",
              "      <td>356775.44</td>\n",
              "      <td>0.00</td>\n",
              "      <td>0.00</td>\n",
              "      <td>11997632.45</td>\n",
              "      <td>12354407.90</td>\n",
              "      <td>0.0</td>\n",
              "    </tr>\n",
              "    <tr>\n",
              "      <th>9</th>\n",
              "      <td>119</td>\n",
              "      <td>2</td>\n",
              "      <td>17615.05</td>\n",
              "      <td>301557.94</td>\n",
              "      <td>283942.89</td>\n",
              "      <td>0.00</td>\n",
              "      <td>0.00</td>\n",
              "      <td>0.0</td>\n",
              "    </tr>\n",
              "    <tr>\n",
              "      <th>10</th>\n",
              "      <td>233</td>\n",
              "      <td>1</td>\n",
              "      <td>627369.90</td>\n",
              "      <td>121916.00</td>\n",
              "      <td>0.00</td>\n",
              "      <td>0.00</td>\n",
              "      <td>821214.41</td>\n",
              "      <td>0.0</td>\n",
              "    </tr>\n",
              "    <tr>\n",
              "      <th>11</th>\n",
              "      <td>119</td>\n",
              "      <td>2</td>\n",
              "      <td>25796.57</td>\n",
              "      <td>0.00</td>\n",
              "      <td>0.00</td>\n",
              "      <td>0.00</td>\n",
              "      <td>0.00</td>\n",
              "      <td>0.0</td>\n",
              "    </tr>\n",
              "    <tr>\n",
              "      <th>12</th>\n",
              "      <td>284</td>\n",
              "      <td>3</td>\n",
              "      <td>44868.69</td>\n",
              "      <td>5379.00</td>\n",
              "      <td>50247.69</td>\n",
              "      <td>124617.92</td>\n",
              "      <td>79749.23</td>\n",
              "      <td>0.0</td>\n",
              "    </tr>\n",
              "    <tr>\n",
              "      <th>13</th>\n",
              "      <td>36</td>\n",
              "      <td>0</td>\n",
              "      <td>193345.22</td>\n",
              "      <td>36071.00</td>\n",
              "      <td>0.00</td>\n",
              "      <td>0.00</td>\n",
              "      <td>193345.22</td>\n",
              "      <td>0.0</td>\n",
              "    </tr>\n",
              "    <tr>\n",
              "      <th>14</th>\n",
              "      <td>306</td>\n",
              "      <td>0</td>\n",
              "      <td>255272.63</td>\n",
              "      <td>0.00</td>\n",
              "      <td>0.00</td>\n",
              "      <td>347799.93</td>\n",
              "      <td>603072.57</td>\n",
              "      <td>0.0</td>\n",
              "    </tr>\n",
              "    <tr>\n",
              "      <th>15</th>\n",
              "      <td>303</td>\n",
              "      <td>2</td>\n",
              "      <td>6443.17</td>\n",
              "      <td>514652.14</td>\n",
              "      <td>508208.97</td>\n",
              "      <td>0.00</td>\n",
              "      <td>0.00</td>\n",
              "      <td>0.0</td>\n",
              "    </tr>\n",
              "    <tr>\n",
              "      <th>16</th>\n",
              "      <td>372</td>\n",
              "      <td>3</td>\n",
              "      <td>226020.75</td>\n",
              "      <td>295.00</td>\n",
              "      <td>226315.75</td>\n",
              "      <td>0.00</td>\n",
              "      <td>0.00</td>\n",
              "      <td>0.0</td>\n",
              "    </tr>\n",
              "    <tr>\n",
              "      <th>17</th>\n",
              "      <td>43</td>\n",
              "      <td>2</td>\n",
              "      <td>17858.28</td>\n",
              "      <td>18178.00</td>\n",
              "      <td>319.72</td>\n",
              "      <td>0.00</td>\n",
              "      <td>0.00</td>\n",
              "      <td>0.0</td>\n",
              "    </tr>\n",
              "    <tr>\n",
              "      <th>18</th>\n",
              "      <td>163</td>\n",
              "      <td>3</td>\n",
              "      <td>394027.63</td>\n",
              "      <td>13178512.44</td>\n",
              "      <td>13572540.07</td>\n",
              "      <td>2721752.20</td>\n",
              "      <td>2327724.56</td>\n",
              "      <td>0.0</td>\n",
              "    </tr>\n",
              "    <tr>\n",
              "      <th>19</th>\n",
              "      <td>359</td>\n",
              "      <td>2</td>\n",
              "      <td>22741.35</td>\n",
              "      <td>13534.93</td>\n",
              "      <td>0.00</td>\n",
              "      <td>0.00</td>\n",
              "      <td>0.00</td>\n",
              "      <td>0.0</td>\n",
              "    </tr>\n",
              "    <tr>\n",
              "      <th>20</th>\n",
              "      <td>306</td>\n",
              "      <td>3</td>\n",
              "      <td>243420.69</td>\n",
              "      <td>142531.12</td>\n",
              "      <td>385951.80</td>\n",
              "      <td>486872.48</td>\n",
              "      <td>243451.79</td>\n",
              "      <td>0.0</td>\n",
              "    </tr>\n",
              "    <tr>\n",
              "      <th>21</th>\n",
              "      <td>405</td>\n",
              "      <td>0</td>\n",
              "      <td>234953.67</td>\n",
              "      <td>0.00</td>\n",
              "      <td>0.00</td>\n",
              "      <td>3081364.66</td>\n",
              "      <td>3316318.33</td>\n",
              "      <td>0.0</td>\n",
              "    </tr>\n",
              "    <tr>\n",
              "      <th>22</th>\n",
              "      <td>331</td>\n",
              "      <td>3</td>\n",
              "      <td>157898.98</td>\n",
              "      <td>10045792.29</td>\n",
              "      <td>10203691.27</td>\n",
              "      <td>13395139.51</td>\n",
              "      <td>13237240.52</td>\n",
              "      <td>0.0</td>\n",
              "    </tr>\n",
              "    <tr>\n",
              "      <th>23</th>\n",
              "      <td>163</td>\n",
              "      <td>0</td>\n",
              "      <td>60562.51</td>\n",
              "      <td>129412.00</td>\n",
              "      <td>68849.49</td>\n",
              "      <td>0.00</td>\n",
              "      <td>60562.51</td>\n",
              "      <td>0.0</td>\n",
              "    </tr>\n",
              "    <tr>\n",
              "      <th>24</th>\n",
              "      <td>178</td>\n",
              "      <td>0</td>\n",
              "      <td>93884.77</td>\n",
              "      <td>43022.00</td>\n",
              "      <td>0.00</td>\n",
              "      <td>781080.44</td>\n",
              "      <td>874965.22</td>\n",
              "      <td>0.0</td>\n",
              "    </tr>\n",
              "    <tr>\n",
              "      <th>25</th>\n",
              "      <td>185</td>\n",
              "      <td>2</td>\n",
              "      <td>12570.56</td>\n",
              "      <td>0.00</td>\n",
              "      <td>0.00</td>\n",
              "      <td>0.00</td>\n",
              "      <td>0.00</td>\n",
              "      <td>0.0</td>\n",
              "    </tr>\n",
              "    <tr>\n",
              "      <th>26</th>\n",
              "      <td>10</td>\n",
              "      <td>3</td>\n",
              "      <td>707943.79</td>\n",
              "      <td>106565.00</td>\n",
              "      <td>814508.79</td>\n",
              "      <td>1156074.13</td>\n",
              "      <td>917829.92</td>\n",
              "      <td>0.0</td>\n",
              "    </tr>\n",
              "    <tr>\n",
              "      <th>27</th>\n",
              "      <td>33</td>\n",
              "      <td>3</td>\n",
              "      <td>132598.77</td>\n",
              "      <td>1558675.92</td>\n",
              "      <td>1691274.69</td>\n",
              "      <td>388299.13</td>\n",
              "      <td>255700.36</td>\n",
              "      <td>0.0</td>\n",
              "    </tr>\n",
              "    <tr>\n",
              "      <th>28</th>\n",
              "      <td>377</td>\n",
              "      <td>2</td>\n",
              "      <td>217.33</td>\n",
              "      <td>0.00</td>\n",
              "      <td>0.00</td>\n",
              "      <td>0.00</td>\n",
              "      <td>0.00</td>\n",
              "      <td>0.0</td>\n",
              "    </tr>\n",
              "    <tr>\n",
              "      <th>29</th>\n",
              "      <td>206</td>\n",
              "      <td>3</td>\n",
              "      <td>224688.57</td>\n",
              "      <td>137057.00</td>\n",
              "      <td>361745.57</td>\n",
              "      <td>0.00</td>\n",
              "      <td>0.00</td>\n",
              "      <td>0.0</td>\n",
              "    </tr>\n",
              "    <tr>\n",
              "      <th>30</th>\n",
              "      <td>229</td>\n",
              "      <td>2</td>\n",
              "      <td>4649.42</td>\n",
              "      <td>47023.00</td>\n",
              "      <td>42373.58</td>\n",
              "      <td>0.00</td>\n",
              "      <td>0.00</td>\n",
              "      <td>0.0</td>\n",
              "    </tr>\n",
              "    <tr>\n",
              "      <th>31</th>\n",
              "      <td>396</td>\n",
              "      <td>0</td>\n",
              "      <td>292883.59</td>\n",
              "      <td>595.00</td>\n",
              "      <td>0.00</td>\n",
              "      <td>0.00</td>\n",
              "      <td>292883.59</td>\n",
              "      <td>0.0</td>\n",
              "    </tr>\n",
              "    <tr>\n",
              "      <th>32</th>\n",
              "      <td>371</td>\n",
              "      <td>0</td>\n",
              "      <td>138787.31</td>\n",
              "      <td>31909.00</td>\n",
              "      <td>0.00</td>\n",
              "      <td>0.00</td>\n",
              "      <td>138787.31</td>\n",
              "      <td>0.0</td>\n",
              "    </tr>\n",
              "    <tr>\n",
              "      <th>33</th>\n",
              "      <td>285</td>\n",
              "      <td>0</td>\n",
              "      <td>41803.32</td>\n",
              "      <td>0.00</td>\n",
              "      <td>0.00</td>\n",
              "      <td>158827.73</td>\n",
              "      <td>200631.05</td>\n",
              "      <td>0.0</td>\n",
              "    </tr>\n",
              "    <tr>\n",
              "      <th>34</th>\n",
              "      <td>329</td>\n",
              "      <td>3</td>\n",
              "      <td>252669.39</td>\n",
              "      <td>51622.00</td>\n",
              "      <td>304291.39</td>\n",
              "      <td>955896.99</td>\n",
              "      <td>703227.60</td>\n",
              "      <td>0.0</td>\n",
              "    </tr>\n",
              "    <tr>\n",
              "      <th>35</th>\n",
              "      <td>18</td>\n",
              "      <td>3</td>\n",
              "      <td>550058.01</td>\n",
              "      <td>61448.00</td>\n",
              "      <td>611506.01</td>\n",
              "      <td>912190.48</td>\n",
              "      <td>0.00</td>\n",
              "      <td>0.0</td>\n",
              "    </tr>\n",
              "    <tr>\n",
              "      <th>36</th>\n",
              "      <td>307</td>\n",
              "      <td>2</td>\n",
              "      <td>8940.07</td>\n",
              "      <td>0.00</td>\n",
              "      <td>0.00</td>\n",
              "      <td>0.00</td>\n",
              "      <td>0.00</td>\n",
              "      <td>0.0</td>\n",
              "    </tr>\n",
              "    <tr>\n",
              "      <th>37</th>\n",
              "      <td>184</td>\n",
              "      <td>2</td>\n",
              "      <td>10720.01</td>\n",
              "      <td>0.00</td>\n",
              "      <td>0.00</td>\n",
              "      <td>0.00</td>\n",
              "      <td>0.00</td>\n",
              "      <td>0.0</td>\n",
              "    </tr>\n",
              "    <tr>\n",
              "      <th>38</th>\n",
              "      <td>251</td>\n",
              "      <td>2</td>\n",
              "      <td>50162.48</td>\n",
              "      <td>286043.50</td>\n",
              "      <td>235881.02</td>\n",
              "      <td>0.00</td>\n",
              "      <td>0.00</td>\n",
              "      <td>0.0</td>\n",
              "    </tr>\n",
              "    <tr>\n",
              "      <th>39</th>\n",
              "      <td>17</td>\n",
              "      <td>0</td>\n",
              "      <td>169407.82</td>\n",
              "      <td>3860.00</td>\n",
              "      <td>0.00</td>\n",
              "      <td>1101923.03</td>\n",
              "      <td>1271330.85</td>\n",
              "      <td>0.0</td>\n",
              "    </tr>\n",
              "    <tr>\n",
              "      <th>40</th>\n",
              "      <td>141</td>\n",
              "      <td>2</td>\n",
              "      <td>11219.25</td>\n",
              "      <td>23856.00</td>\n",
              "      <td>12636.75</td>\n",
              "      <td>0.00</td>\n",
              "      <td>0.00</td>\n",
              "      <td>0.0</td>\n",
              "    </tr>\n",
              "    <tr>\n",
              "      <th>41</th>\n",
              "      <td>140</td>\n",
              "      <td>3</td>\n",
              "      <td>94091.78</td>\n",
              "      <td>20305.00</td>\n",
              "      <td>114396.78</td>\n",
              "      <td>0.00</td>\n",
              "      <td>0.00</td>\n",
              "      <td>0.0</td>\n",
              "    </tr>\n",
              "    <tr>\n",
              "      <th>42</th>\n",
              "      <td>130</td>\n",
              "      <td>0</td>\n",
              "      <td>133283.77</td>\n",
              "      <td>0.00</td>\n",
              "      <td>0.00</td>\n",
              "      <td>275846.00</td>\n",
              "      <td>409129.77</td>\n",
              "      <td>0.0</td>\n",
              "    </tr>\n",
              "    <tr>\n",
              "      <th>43</th>\n",
              "      <td>178</td>\n",
              "      <td>0</td>\n",
              "      <td>465517.61</td>\n",
              "      <td>21818.00</td>\n",
              "      <td>0.00</td>\n",
              "      <td>45508.08</td>\n",
              "      <td>511025.68</td>\n",
              "      <td>0.0</td>\n",
              "    </tr>\n",
              "    <tr>\n",
              "      <th>44</th>\n",
              "      <td>378</td>\n",
              "      <td>0</td>\n",
              "      <td>201060.79</td>\n",
              "      <td>69.00</td>\n",
              "      <td>0.00</td>\n",
              "      <td>987165.95</td>\n",
              "      <td>1188226.74</td>\n",
              "      <td>0.0</td>\n",
              "    </tr>\n",
              "    <tr>\n",
              "      <th>45</th>\n",
              "      <td>398</td>\n",
              "      <td>0</td>\n",
              "      <td>59652.17</td>\n",
              "      <td>0.00</td>\n",
              "      <td>0.00</td>\n",
              "      <td>1298315.89</td>\n",
              "      <td>1357968.07</td>\n",
              "      <td>0.0</td>\n",
              "    </tr>\n",
              "    <tr>\n",
              "      <th>46</th>\n",
              "      <td>204</td>\n",
              "      <td>0</td>\n",
              "      <td>105878.84</td>\n",
              "      <td>932380.00</td>\n",
              "      <td>826501.16</td>\n",
              "      <td>64929.07</td>\n",
              "      <td>170807.91</td>\n",
              "      <td>0.0</td>\n",
              "    </tr>\n",
              "    <tr>\n",
              "      <th>47</th>\n",
              "      <td>280</td>\n",
              "      <td>2</td>\n",
              "      <td>3036.65</td>\n",
              "      <td>0.00</td>\n",
              "      <td>0.00</td>\n",
              "      <td>0.00</td>\n",
              "      <td>0.00</td>\n",
              "      <td>0.0</td>\n",
              "    </tr>\n",
              "    <tr>\n",
              "      <th>48</th>\n",
              "      <td>347</td>\n",
              "      <td>0</td>\n",
              "      <td>72869.58</td>\n",
              "      <td>0.00</td>\n",
              "      <td>0.00</td>\n",
              "      <td>359161.21</td>\n",
              "      <td>432030.79</td>\n",
              "      <td>0.0</td>\n",
              "    </tr>\n",
              "    <tr>\n",
              "      <th>49</th>\n",
              "      <td>398</td>\n",
              "      <td>0</td>\n",
              "      <td>325360.30</td>\n",
              "      <td>9902.00</td>\n",
              "      <td>0.00</td>\n",
              "      <td>231753.08</td>\n",
              "      <td>557113.38</td>\n",
              "      <td>0.0</td>\n",
              "    </tr>\n",
              "  </tbody>\n",
              "</table>\n",
              "</div>\n",
              "      <button class=\"colab-df-convert\" onclick=\"convertToInteractive('df-c8ca6aec-82df-4976-b43b-3e6f279197b6')\"\n",
              "              title=\"Convert this dataframe to an interactive table.\"\n",
              "              style=\"display:none;\">\n",
              "        \n",
              "  <svg xmlns=\"http://www.w3.org/2000/svg\" height=\"24px\"viewBox=\"0 0 24 24\"\n",
              "       width=\"24px\">\n",
              "    <path d=\"M0 0h24v24H0V0z\" fill=\"none\"/>\n",
              "    <path d=\"M18.56 5.44l.94 2.06.94-2.06 2.06-.94-2.06-.94-.94-2.06-.94 2.06-2.06.94zm-11 1L8.5 8.5l.94-2.06 2.06-.94-2.06-.94L8.5 2.5l-.94 2.06-2.06.94zm10 10l.94 2.06.94-2.06 2.06-.94-2.06-.94-.94-2.06-.94 2.06-2.06.94z\"/><path d=\"M17.41 7.96l-1.37-1.37c-.4-.4-.92-.59-1.43-.59-.52 0-1.04.2-1.43.59L10.3 9.45l-7.72 7.72c-.78.78-.78 2.05 0 2.83L4 21.41c.39.39.9.59 1.41.59.51 0 1.02-.2 1.41-.59l7.78-7.78 2.81-2.81c.8-.78.8-2.07 0-2.86zM5.41 20L4 18.59l7.72-7.72 1.47 1.35L5.41 20z\"/>\n",
              "  </svg>\n",
              "      </button>\n",
              "      \n",
              "  <style>\n",
              "    .colab-df-container {\n",
              "      display:flex;\n",
              "      flex-wrap:wrap;\n",
              "      gap: 12px;\n",
              "    }\n",
              "\n",
              "    .colab-df-convert {\n",
              "      background-color: #E8F0FE;\n",
              "      border: none;\n",
              "      border-radius: 50%;\n",
              "      cursor: pointer;\n",
              "      display: none;\n",
              "      fill: #1967D2;\n",
              "      height: 32px;\n",
              "      padding: 0 0 0 0;\n",
              "      width: 32px;\n",
              "    }\n",
              "\n",
              "    .colab-df-convert:hover {\n",
              "      background-color: #E2EBFA;\n",
              "      box-shadow: 0px 1px 2px rgba(60, 64, 67, 0.3), 0px 1px 3px 1px rgba(60, 64, 67, 0.15);\n",
              "      fill: #174EA6;\n",
              "    }\n",
              "\n",
              "    [theme=dark] .colab-df-convert {\n",
              "      background-color: #3B4455;\n",
              "      fill: #D2E3FC;\n",
              "    }\n",
              "\n",
              "    [theme=dark] .colab-df-convert:hover {\n",
              "      background-color: #434B5C;\n",
              "      box-shadow: 0px 1px 3px 1px rgba(0, 0, 0, 0.15);\n",
              "      filter: drop-shadow(0px 1px 2px rgba(0, 0, 0, 0.3));\n",
              "      fill: #FFFFFF;\n",
              "    }\n",
              "  </style>\n",
              "\n",
              "      <script>\n",
              "        const buttonEl =\n",
              "          document.querySelector('#df-c8ca6aec-82df-4976-b43b-3e6f279197b6 button.colab-df-convert');\n",
              "        buttonEl.style.display =\n",
              "          google.colab.kernel.accessAllowed ? 'block' : 'none';\n",
              "\n",
              "        async function convertToInteractive(key) {\n",
              "          const element = document.querySelector('#df-c8ca6aec-82df-4976-b43b-3e6f279197b6');\n",
              "          const dataTable =\n",
              "            await google.colab.kernel.invokeFunction('convertToInteractive',\n",
              "                                                     [key], {});\n",
              "          if (!dataTable) return;\n",
              "\n",
              "          const docLinkHtml = 'Like what you see? Visit the ' +\n",
              "            '<a target=\"_blank\" href=https://colab.research.google.com/notebooks/data_table.ipynb>data table notebook</a>'\n",
              "            + ' to learn more about interactive tables.';\n",
              "          element.innerHTML = '';\n",
              "          dataTable['output_type'] = 'display_data';\n",
              "          await google.colab.output.renderOutput(dataTable, element);\n",
              "          const docLink = document.createElement('div');\n",
              "          docLink.innerHTML = docLinkHtml;\n",
              "          element.appendChild(docLink);\n",
              "        }\n",
              "      </script>\n",
              "    </div>\n",
              "  </div>\n",
              "  "
            ]
          },
          "metadata": {},
          "execution_count": 138
        }
      ]
    },
    {
      "cell_type": "code",
      "source": [
        "data.tail()"
      ],
      "metadata": {
        "id": "4YM2qn1SvO66",
        "outputId": "c4987416-90ed-4791-8f6c-7c9429c0d9aa",
        "colab": {
          "base_uri": "https://localhost:8080/",
          "height": 206
        }
      },
      "execution_count": null,
      "outputs": [
        {
          "output_type": "execute_result",
          "data": {
            "text/plain": [
              "       step  type     amount  oldbalanceOrig  newbalanceOrig  oldbalanceDest  \\\n",
              "15536   404     0  540914.12       540914.12             0.0        36447.52   \n",
              "15537   404     1  932691.00       932691.00             0.0            0.00   \n",
              "15538   404     0  932691.00       932691.00             0.0        93390.82   \n",
              "15539   405     1  973805.75       973805.75             0.0            0.00   \n",
              "15540   405     0  973805.75       973805.75             0.0            0.00   \n",
              "\n",
              "       newbalanceDest  isFraud  \n",
              "15536       577361.64      1.0  \n",
              "15537            0.00      1.0  \n",
              "15538      1026081.82      1.0  \n",
              "15539            0.00      1.0  \n",
              "15540       973805.75      1.0  "
            ],
            "text/html": [
              "\n",
              "  <div id=\"df-3a53c7ca-38fa-4ae5-91ef-779751750acc\">\n",
              "    <div class=\"colab-df-container\">\n",
              "      <div>\n",
              "<style scoped>\n",
              "    .dataframe tbody tr th:only-of-type {\n",
              "        vertical-align: middle;\n",
              "    }\n",
              "\n",
              "    .dataframe tbody tr th {\n",
              "        vertical-align: top;\n",
              "    }\n",
              "\n",
              "    .dataframe thead th {\n",
              "        text-align: right;\n",
              "    }\n",
              "</style>\n",
              "<table border=\"1\" class=\"dataframe\">\n",
              "  <thead>\n",
              "    <tr style=\"text-align: right;\">\n",
              "      <th></th>\n",
              "      <th>step</th>\n",
              "      <th>type</th>\n",
              "      <th>amount</th>\n",
              "      <th>oldbalanceOrig</th>\n",
              "      <th>newbalanceOrig</th>\n",
              "      <th>oldbalanceDest</th>\n",
              "      <th>newbalanceDest</th>\n",
              "      <th>isFraud</th>\n",
              "    </tr>\n",
              "  </thead>\n",
              "  <tbody>\n",
              "    <tr>\n",
              "      <th>15536</th>\n",
              "      <td>404</td>\n",
              "      <td>0</td>\n",
              "      <td>540914.12</td>\n",
              "      <td>540914.12</td>\n",
              "      <td>0.0</td>\n",
              "      <td>36447.52</td>\n",
              "      <td>577361.64</td>\n",
              "      <td>1.0</td>\n",
              "    </tr>\n",
              "    <tr>\n",
              "      <th>15537</th>\n",
              "      <td>404</td>\n",
              "      <td>1</td>\n",
              "      <td>932691.00</td>\n",
              "      <td>932691.00</td>\n",
              "      <td>0.0</td>\n",
              "      <td>0.00</td>\n",
              "      <td>0.00</td>\n",
              "      <td>1.0</td>\n",
              "    </tr>\n",
              "    <tr>\n",
              "      <th>15538</th>\n",
              "      <td>404</td>\n",
              "      <td>0</td>\n",
              "      <td>932691.00</td>\n",
              "      <td>932691.00</td>\n",
              "      <td>0.0</td>\n",
              "      <td>93390.82</td>\n",
              "      <td>1026081.82</td>\n",
              "      <td>1.0</td>\n",
              "    </tr>\n",
              "    <tr>\n",
              "      <th>15539</th>\n",
              "      <td>405</td>\n",
              "      <td>1</td>\n",
              "      <td>973805.75</td>\n",
              "      <td>973805.75</td>\n",
              "      <td>0.0</td>\n",
              "      <td>0.00</td>\n",
              "      <td>0.00</td>\n",
              "      <td>1.0</td>\n",
              "    </tr>\n",
              "    <tr>\n",
              "      <th>15540</th>\n",
              "      <td>405</td>\n",
              "      <td>0</td>\n",
              "      <td>973805.75</td>\n",
              "      <td>973805.75</td>\n",
              "      <td>0.0</td>\n",
              "      <td>0.00</td>\n",
              "      <td>973805.75</td>\n",
              "      <td>1.0</td>\n",
              "    </tr>\n",
              "  </tbody>\n",
              "</table>\n",
              "</div>\n",
              "      <button class=\"colab-df-convert\" onclick=\"convertToInteractive('df-3a53c7ca-38fa-4ae5-91ef-779751750acc')\"\n",
              "              title=\"Convert this dataframe to an interactive table.\"\n",
              "              style=\"display:none;\">\n",
              "        \n",
              "  <svg xmlns=\"http://www.w3.org/2000/svg\" height=\"24px\"viewBox=\"0 0 24 24\"\n",
              "       width=\"24px\">\n",
              "    <path d=\"M0 0h24v24H0V0z\" fill=\"none\"/>\n",
              "    <path d=\"M18.56 5.44l.94 2.06.94-2.06 2.06-.94-2.06-.94-.94-2.06-.94 2.06-2.06.94zm-11 1L8.5 8.5l.94-2.06 2.06-.94-2.06-.94L8.5 2.5l-.94 2.06-2.06.94zm10 10l.94 2.06.94-2.06 2.06-.94-2.06-.94-.94-2.06-.94 2.06-2.06.94z\"/><path d=\"M17.41 7.96l-1.37-1.37c-.4-.4-.92-.59-1.43-.59-.52 0-1.04.2-1.43.59L10.3 9.45l-7.72 7.72c-.78.78-.78 2.05 0 2.83L4 21.41c.39.39.9.59 1.41.59.51 0 1.02-.2 1.41-.59l7.78-7.78 2.81-2.81c.8-.78.8-2.07 0-2.86zM5.41 20L4 18.59l7.72-7.72 1.47 1.35L5.41 20z\"/>\n",
              "  </svg>\n",
              "      </button>\n",
              "      \n",
              "  <style>\n",
              "    .colab-df-container {\n",
              "      display:flex;\n",
              "      flex-wrap:wrap;\n",
              "      gap: 12px;\n",
              "    }\n",
              "\n",
              "    .colab-df-convert {\n",
              "      background-color: #E8F0FE;\n",
              "      border: none;\n",
              "      border-radius: 50%;\n",
              "      cursor: pointer;\n",
              "      display: none;\n",
              "      fill: #1967D2;\n",
              "      height: 32px;\n",
              "      padding: 0 0 0 0;\n",
              "      width: 32px;\n",
              "    }\n",
              "\n",
              "    .colab-df-convert:hover {\n",
              "      background-color: #E2EBFA;\n",
              "      box-shadow: 0px 1px 2px rgba(60, 64, 67, 0.3), 0px 1px 3px 1px rgba(60, 64, 67, 0.15);\n",
              "      fill: #174EA6;\n",
              "    }\n",
              "\n",
              "    [theme=dark] .colab-df-convert {\n",
              "      background-color: #3B4455;\n",
              "      fill: #D2E3FC;\n",
              "    }\n",
              "\n",
              "    [theme=dark] .colab-df-convert:hover {\n",
              "      background-color: #434B5C;\n",
              "      box-shadow: 0px 1px 3px 1px rgba(0, 0, 0, 0.15);\n",
              "      filter: drop-shadow(0px 1px 2px rgba(0, 0, 0, 0.3));\n",
              "      fill: #FFFFFF;\n",
              "    }\n",
              "  </style>\n",
              "\n",
              "      <script>\n",
              "        const buttonEl =\n",
              "          document.querySelector('#df-3a53c7ca-38fa-4ae5-91ef-779751750acc button.colab-df-convert');\n",
              "        buttonEl.style.display =\n",
              "          google.colab.kernel.accessAllowed ? 'block' : 'none';\n",
              "\n",
              "        async function convertToInteractive(key) {\n",
              "          const element = document.querySelector('#df-3a53c7ca-38fa-4ae5-91ef-779751750acc');\n",
              "          const dataTable =\n",
              "            await google.colab.kernel.invokeFunction('convertToInteractive',\n",
              "                                                     [key], {});\n",
              "          if (!dataTable) return;\n",
              "\n",
              "          const docLinkHtml = 'Like what you see? Visit the ' +\n",
              "            '<a target=\"_blank\" href=https://colab.research.google.com/notebooks/data_table.ipynb>data table notebook</a>'\n",
              "            + ' to learn more about interactive tables.';\n",
              "          element.innerHTML = '';\n",
              "          dataTable['output_type'] = 'display_data';\n",
              "          await google.colab.output.renderOutput(dataTable, element);\n",
              "          const docLink = document.createElement('div');\n",
              "          docLink.innerHTML = docLinkHtml;\n",
              "          element.appendChild(docLink);\n",
              "        }\n",
              "      </script>\n",
              "    </div>\n",
              "  </div>\n",
              "  "
            ]
          },
          "metadata": {},
          "execution_count": 139
        }
      ]
    },
    {
      "cell_type": "code",
      "source": [
        "X=data.drop('isFraud',axis=1)"
      ],
      "metadata": {
        "id": "l5zOA4aqo6x-"
      },
      "execution_count": null,
      "outputs": []
    },
    {
      "cell_type": "code",
      "source": [
        "X"
      ],
      "metadata": {
        "colab": {
          "base_uri": "https://localhost:8080/",
          "height": 424
        },
        "id": "zuCGK2EIpB08",
        "outputId": "50f83d55-6e51-4699-e371-eb8585c75f12"
      },
      "execution_count": null,
      "outputs": [
        {
          "output_type": "execute_result",
          "data": {
            "text/plain": [
              "       step  type     amount  oldbalanceOrig  newbalanceOrig  oldbalanceDest  \\\n",
              "0       330     0  129328.39            0.00             0.0      1293646.35   \n",
              "1       259     0  243879.86            0.00             0.0      6772791.88   \n",
              "2       330     2    4842.50            0.00             0.0            0.00   \n",
              "3       304     0   22218.01            0.00             0.0       756643.32   \n",
              "4       301     0  445921.93         4092.00             0.0        80548.08   \n",
              "...     ...   ...        ...             ...             ...             ...   \n",
              "15536   404     0  540914.12       540914.12             0.0        36447.52   \n",
              "15537   404     1  932691.00       932691.00             0.0            0.00   \n",
              "15538   404     0  932691.00       932691.00             0.0        93390.82   \n",
              "15539   405     1  973805.75       973805.75             0.0            0.00   \n",
              "15540   405     0  973805.75       973805.75             0.0            0.00   \n",
              "\n",
              "       newbalanceDest  \n",
              "0          1422974.73  \n",
              "1          7016671.73  \n",
              "2                0.00  \n",
              "3           778861.33  \n",
              "4           526470.01  \n",
              "...               ...  \n",
              "15536       577361.64  \n",
              "15537            0.00  \n",
              "15538      1026081.82  \n",
              "15539            0.00  \n",
              "15540       973805.75  \n",
              "\n",
              "[15541 rows x 7 columns]"
            ],
            "text/html": [
              "\n",
              "  <div id=\"df-eff8630f-d0a2-4fc9-a612-14e688e69f19\">\n",
              "    <div class=\"colab-df-container\">\n",
              "      <div>\n",
              "<style scoped>\n",
              "    .dataframe tbody tr th:only-of-type {\n",
              "        vertical-align: middle;\n",
              "    }\n",
              "\n",
              "    .dataframe tbody tr th {\n",
              "        vertical-align: top;\n",
              "    }\n",
              "\n",
              "    .dataframe thead th {\n",
              "        text-align: right;\n",
              "    }\n",
              "</style>\n",
              "<table border=\"1\" class=\"dataframe\">\n",
              "  <thead>\n",
              "    <tr style=\"text-align: right;\">\n",
              "      <th></th>\n",
              "      <th>step</th>\n",
              "      <th>type</th>\n",
              "      <th>amount</th>\n",
              "      <th>oldbalanceOrig</th>\n",
              "      <th>newbalanceOrig</th>\n",
              "      <th>oldbalanceDest</th>\n",
              "      <th>newbalanceDest</th>\n",
              "    </tr>\n",
              "  </thead>\n",
              "  <tbody>\n",
              "    <tr>\n",
              "      <th>0</th>\n",
              "      <td>330</td>\n",
              "      <td>0</td>\n",
              "      <td>129328.39</td>\n",
              "      <td>0.00</td>\n",
              "      <td>0.0</td>\n",
              "      <td>1293646.35</td>\n",
              "      <td>1422974.73</td>\n",
              "    </tr>\n",
              "    <tr>\n",
              "      <th>1</th>\n",
              "      <td>259</td>\n",
              "      <td>0</td>\n",
              "      <td>243879.86</td>\n",
              "      <td>0.00</td>\n",
              "      <td>0.0</td>\n",
              "      <td>6772791.88</td>\n",
              "      <td>7016671.73</td>\n",
              "    </tr>\n",
              "    <tr>\n",
              "      <th>2</th>\n",
              "      <td>330</td>\n",
              "      <td>2</td>\n",
              "      <td>4842.50</td>\n",
              "      <td>0.00</td>\n",
              "      <td>0.0</td>\n",
              "      <td>0.00</td>\n",
              "      <td>0.00</td>\n",
              "    </tr>\n",
              "    <tr>\n",
              "      <th>3</th>\n",
              "      <td>304</td>\n",
              "      <td>0</td>\n",
              "      <td>22218.01</td>\n",
              "      <td>0.00</td>\n",
              "      <td>0.0</td>\n",
              "      <td>756643.32</td>\n",
              "      <td>778861.33</td>\n",
              "    </tr>\n",
              "    <tr>\n",
              "      <th>4</th>\n",
              "      <td>301</td>\n",
              "      <td>0</td>\n",
              "      <td>445921.93</td>\n",
              "      <td>4092.00</td>\n",
              "      <td>0.0</td>\n",
              "      <td>80548.08</td>\n",
              "      <td>526470.01</td>\n",
              "    </tr>\n",
              "    <tr>\n",
              "      <th>...</th>\n",
              "      <td>...</td>\n",
              "      <td>...</td>\n",
              "      <td>...</td>\n",
              "      <td>...</td>\n",
              "      <td>...</td>\n",
              "      <td>...</td>\n",
              "      <td>...</td>\n",
              "    </tr>\n",
              "    <tr>\n",
              "      <th>15536</th>\n",
              "      <td>404</td>\n",
              "      <td>0</td>\n",
              "      <td>540914.12</td>\n",
              "      <td>540914.12</td>\n",
              "      <td>0.0</td>\n",
              "      <td>36447.52</td>\n",
              "      <td>577361.64</td>\n",
              "    </tr>\n",
              "    <tr>\n",
              "      <th>15537</th>\n",
              "      <td>404</td>\n",
              "      <td>1</td>\n",
              "      <td>932691.00</td>\n",
              "      <td>932691.00</td>\n",
              "      <td>0.0</td>\n",
              "      <td>0.00</td>\n",
              "      <td>0.00</td>\n",
              "    </tr>\n",
              "    <tr>\n",
              "      <th>15538</th>\n",
              "      <td>404</td>\n",
              "      <td>0</td>\n",
              "      <td>932691.00</td>\n",
              "      <td>932691.00</td>\n",
              "      <td>0.0</td>\n",
              "      <td>93390.82</td>\n",
              "      <td>1026081.82</td>\n",
              "    </tr>\n",
              "    <tr>\n",
              "      <th>15539</th>\n",
              "      <td>405</td>\n",
              "      <td>1</td>\n",
              "      <td>973805.75</td>\n",
              "      <td>973805.75</td>\n",
              "      <td>0.0</td>\n",
              "      <td>0.00</td>\n",
              "      <td>0.00</td>\n",
              "    </tr>\n",
              "    <tr>\n",
              "      <th>15540</th>\n",
              "      <td>405</td>\n",
              "      <td>0</td>\n",
              "      <td>973805.75</td>\n",
              "      <td>973805.75</td>\n",
              "      <td>0.0</td>\n",
              "      <td>0.00</td>\n",
              "      <td>973805.75</td>\n",
              "    </tr>\n",
              "  </tbody>\n",
              "</table>\n",
              "<p>15541 rows × 7 columns</p>\n",
              "</div>\n",
              "      <button class=\"colab-df-convert\" onclick=\"convertToInteractive('df-eff8630f-d0a2-4fc9-a612-14e688e69f19')\"\n",
              "              title=\"Convert this dataframe to an interactive table.\"\n",
              "              style=\"display:none;\">\n",
              "        \n",
              "  <svg xmlns=\"http://www.w3.org/2000/svg\" height=\"24px\"viewBox=\"0 0 24 24\"\n",
              "       width=\"24px\">\n",
              "    <path d=\"M0 0h24v24H0V0z\" fill=\"none\"/>\n",
              "    <path d=\"M18.56 5.44l.94 2.06.94-2.06 2.06-.94-2.06-.94-.94-2.06-.94 2.06-2.06.94zm-11 1L8.5 8.5l.94-2.06 2.06-.94-2.06-.94L8.5 2.5l-.94 2.06-2.06.94zm10 10l.94 2.06.94-2.06 2.06-.94-2.06-.94-.94-2.06-.94 2.06-2.06.94z\"/><path d=\"M17.41 7.96l-1.37-1.37c-.4-.4-.92-.59-1.43-.59-.52 0-1.04.2-1.43.59L10.3 9.45l-7.72 7.72c-.78.78-.78 2.05 0 2.83L4 21.41c.39.39.9.59 1.41.59.51 0 1.02-.2 1.41-.59l7.78-7.78 2.81-2.81c.8-.78.8-2.07 0-2.86zM5.41 20L4 18.59l7.72-7.72 1.47 1.35L5.41 20z\"/>\n",
              "  </svg>\n",
              "      </button>\n",
              "      \n",
              "  <style>\n",
              "    .colab-df-container {\n",
              "      display:flex;\n",
              "      flex-wrap:wrap;\n",
              "      gap: 12px;\n",
              "    }\n",
              "\n",
              "    .colab-df-convert {\n",
              "      background-color: #E8F0FE;\n",
              "      border: none;\n",
              "      border-radius: 50%;\n",
              "      cursor: pointer;\n",
              "      display: none;\n",
              "      fill: #1967D2;\n",
              "      height: 32px;\n",
              "      padding: 0 0 0 0;\n",
              "      width: 32px;\n",
              "    }\n",
              "\n",
              "    .colab-df-convert:hover {\n",
              "      background-color: #E2EBFA;\n",
              "      box-shadow: 0px 1px 2px rgba(60, 64, 67, 0.3), 0px 1px 3px 1px rgba(60, 64, 67, 0.15);\n",
              "      fill: #174EA6;\n",
              "    }\n",
              "\n",
              "    [theme=dark] .colab-df-convert {\n",
              "      background-color: #3B4455;\n",
              "      fill: #D2E3FC;\n",
              "    }\n",
              "\n",
              "    [theme=dark] .colab-df-convert:hover {\n",
              "      background-color: #434B5C;\n",
              "      box-shadow: 0px 1px 3px 1px rgba(0, 0, 0, 0.15);\n",
              "      filter: drop-shadow(0px 1px 2px rgba(0, 0, 0, 0.3));\n",
              "      fill: #FFFFFF;\n",
              "    }\n",
              "  </style>\n",
              "\n",
              "      <script>\n",
              "        const buttonEl =\n",
              "          document.querySelector('#df-eff8630f-d0a2-4fc9-a612-14e688e69f19 button.colab-df-convert');\n",
              "        buttonEl.style.display =\n",
              "          google.colab.kernel.accessAllowed ? 'block' : 'none';\n",
              "\n",
              "        async function convertToInteractive(key) {\n",
              "          const element = document.querySelector('#df-eff8630f-d0a2-4fc9-a612-14e688e69f19');\n",
              "          const dataTable =\n",
              "            await google.colab.kernel.invokeFunction('convertToInteractive',\n",
              "                                                     [key], {});\n",
              "          if (!dataTable) return;\n",
              "\n",
              "          const docLinkHtml = 'Like what you see? Visit the ' +\n",
              "            '<a target=\"_blank\" href=https://colab.research.google.com/notebooks/data_table.ipynb>data table notebook</a>'\n",
              "            + ' to learn more about interactive tables.';\n",
              "          element.innerHTML = '';\n",
              "          dataTable['output_type'] = 'display_data';\n",
              "          await google.colab.output.renderOutput(dataTable, element);\n",
              "          const docLink = document.createElement('div');\n",
              "          docLink.innerHTML = docLinkHtml;\n",
              "          element.appendChild(docLink);\n",
              "        }\n",
              "      </script>\n",
              "    </div>\n",
              "  </div>\n",
              "  "
            ]
          },
          "metadata": {},
          "execution_count": 90
        }
      ]
    },
    {
      "cell_type": "code",
      "source": [
        "y=data['isFraud']"
      ],
      "metadata": {
        "id": "KBL6JbgcpD5T"
      },
      "execution_count": null,
      "outputs": []
    },
    {
      "cell_type": "code",
      "source": [
        "y"
      ],
      "metadata": {
        "colab": {
          "base_uri": "https://localhost:8080/"
        },
        "id": "THpmPFq_pHuT",
        "outputId": "cd26e6ea-c99a-4953-b0aa-f2c2de9ee3a1"
      },
      "execution_count": null,
      "outputs": [
        {
          "output_type": "execute_result",
          "data": {
            "text/plain": [
              "0        0.0\n",
              "1        0.0\n",
              "2        0.0\n",
              "3        0.0\n",
              "4        0.0\n",
              "        ... \n",
              "15536    1.0\n",
              "15537    1.0\n",
              "15538    1.0\n",
              "15539    1.0\n",
              "15540    1.0\n",
              "Name: isFraud, Length: 15541, dtype: float64"
            ]
          },
          "metadata": {},
          "execution_count": 92
        }
      ]
    },
    {
      "cell_type": "code",
      "source": [
        "from sklearn.model_selection import train_test_split"
      ],
      "metadata": {
        "id": "sLzf1F_wokSb"
      },
      "execution_count": null,
      "outputs": []
    },
    {
      "cell_type": "code",
      "source": [
        "X_train,X_test,y_train,y_test=train_test_split(X,y,test_size=0.30,random_state=0)"
      ],
      "metadata": {
        "id": "jqi05Yebozw6"
      },
      "execution_count": null,
      "outputs": []
    },
    {
      "cell_type": "code",
      "source": [
        "print(X_train.shape)\n",
        "print(X_test.shape)\n",
        "print(y_train.shape)\n",
        "print(y_test.shape)"
      ],
      "metadata": {
        "colab": {
          "base_uri": "https://localhost:8080/"
        },
        "id": "9xg0V6hmpmVV",
        "outputId": "1b50f756-6cb5-4e98-814b-924b34c7d244"
      },
      "execution_count": null,
      "outputs": [
        {
          "output_type": "stream",
          "name": "stdout",
          "text": [
            "(10878, 7)\n",
            "(4663, 7)\n",
            "(10878,)\n",
            "(4663,)\n"
          ]
        }
      ]
    },
    {
      "cell_type": "code",
      "source": [
        "from sklearn.preprocessing import StandardScaler"
      ],
      "metadata": {
        "id": "PZKW3rv6pvqm"
      },
      "execution_count": null,
      "outputs": []
    },
    {
      "cell_type": "code",
      "source": [
        "sc=StandardScaler()"
      ],
      "metadata": {
        "id": "U9BdOZDtp27k"
      },
      "execution_count": null,
      "outputs": []
    },
    {
      "cell_type": "code",
      "source": [
        "X_train_sc=sc.fit_transform(X_train)\n",
        "X_test_sc=sc.transform(X_test)"
      ],
      "metadata": {
        "id": "2NRL0RJXp51F"
      },
      "execution_count": null,
      "outputs": []
    },
    {
      "cell_type": "code",
      "source": [
        "X_train_sc"
      ],
      "metadata": {
        "colab": {
          "base_uri": "https://localhost:8080/"
        },
        "id": "fqYE8Zg_qF2G",
        "outputId": "4c28afbc-e39c-4c92-ea1f-2793354d20a0"
      },
      "execution_count": null,
      "outputs": [
        {
          "output_type": "execute_result",
          "data": {
            "text/plain": [
              "array([[-1.7192121 ,  0.7387326 , -0.34990987, ..., -0.24331693,\n",
              "        -0.34239808, -0.39765216],\n",
              "       [ 0.88515045, -1.03168671, -0.11425115, ..., -0.24331693,\n",
              "        -0.15392734, -0.10986177],\n",
              "       [-0.50158805,  0.7387326 , -0.3660793 , ..., -0.24331693,\n",
              "        -0.34239808, -0.39765216],\n",
              "       ...,\n",
              "       [ 1.5024182 , -0.14647705,  0.11332575, ..., -0.24331693,\n",
              "         1.16753248,  1.14999022],\n",
              "       [ 0.27633842, -1.03168671,  0.12648567, ..., -0.24331693,\n",
              "         0.09596679,  0.223211  ],\n",
              "       [-1.70230066, -1.03168671, -0.23407462, ..., -0.24331693,\n",
              "         1.86757508,  1.59293552]])"
            ]
          },
          "metadata": {},
          "execution_count": 99
        }
      ]
    },
    {
      "cell_type": "code",
      "source": [
        "X_test_sc"
      ],
      "metadata": {
        "colab": {
          "base_uri": "https://localhost:8080/"
        },
        "id": "zK0RPEcEqIqe",
        "outputId": "a941e7f1-3871-4de8-e8c3-772519c62ef4"
      },
      "execution_count": null,
      "outputs": [
        {
          "output_type": "execute_result",
          "data": {
            "text/plain": [
              "array([[ 1.13882213, -0.14647705,  0.10242202, ..., -0.24331693,\n",
              "        -0.34239808, -0.17004804],\n",
              "       [-1.76994644, -0.14647705, -0.31026176, ..., -0.24331693,\n",
              "        -0.34239808, -0.39765216],\n",
              "       [-1.75303499, -1.03168671, -0.26771994, ..., -0.16006226,\n",
              "        -0.29094367, -0.39765216],\n",
              "       ...,\n",
              "       [-1.79531361, -1.03168671,  6.52386822, ..., -0.24331693,\n",
              "        -0.34239808,  2.89083721],\n",
              "       [-0.94974135, -0.14647705, -0.27393598, ..., -0.24331693,\n",
              "        -0.34239808, -0.39765216],\n",
              "       [ 0.13259114, -1.03168671,  0.63119464, ..., -0.24331693,\n",
              "        -0.23673716,  0.17558904]])"
            ]
          },
          "metadata": {},
          "execution_count": 100
        }
      ]
    },
    {
      "cell_type": "code",
      "source": [
        "from sklearn.linear_model import LogisticRegression"
      ],
      "metadata": {
        "id": "pJr2W9NzqLv4"
      },
      "execution_count": null,
      "outputs": []
    },
    {
      "cell_type": "code",
      "source": [
        "model1=LogisticRegression()"
      ],
      "metadata": {
        "id": "RLpEGa06qVMr"
      },
      "execution_count": null,
      "outputs": []
    },
    {
      "cell_type": "code",
      "source": [
        "model1.fit(X_train_sc,y_train)"
      ],
      "metadata": {
        "colab": {
          "base_uri": "https://localhost:8080/"
        },
        "id": "re7CAQr2qZIW",
        "outputId": "5ac87678-785c-48c5-af54-2f8bdc65ca18"
      },
      "execution_count": null,
      "outputs": [
        {
          "output_type": "execute_result",
          "data": {
            "text/plain": [
              "LogisticRegression()"
            ]
          },
          "metadata": {},
          "execution_count": 103
        }
      ]
    },
    {
      "cell_type": "code",
      "source": [
        "y_pred1=model1.predict(X_test_sc)"
      ],
      "metadata": {
        "id": "CTow3j4sqeyg"
      },
      "execution_count": null,
      "outputs": []
    },
    {
      "cell_type": "code",
      "source": [
        "from sklearn.metrics import classification_report"
      ],
      "metadata": {
        "id": "2QZEKwJ2qkx7"
      },
      "execution_count": null,
      "outputs": []
    },
    {
      "cell_type": "code",
      "source": [
        "print(classification_report(y_test,y_pred1))"
      ],
      "metadata": {
        "colab": {
          "base_uri": "https://localhost:8080/"
        },
        "id": "abDTit3rqrAF",
        "outputId": "b786b732-edac-4fbf-83da-f10238254f39"
      },
      "execution_count": null,
      "outputs": [
        {
          "output_type": "stream",
          "name": "stdout",
          "text": [
            "              precision    recall  f1-score   support\n",
            "\n",
            "         0.0       0.87      0.99      0.93      3286\n",
            "         1.0       0.96      0.65      0.78      1377\n",
            "\n",
            "    accuracy                           0.89      4663\n",
            "   macro avg       0.92      0.82      0.85      4663\n",
            "weighted avg       0.90      0.89      0.88      4663\n",
            "\n"
          ]
        }
      ]
    },
    {
      "cell_type": "code",
      "source": [
        "from sklearn.naive_bayes import GaussianNB"
      ],
      "metadata": {
        "id": "GCBb4TTnqxq6"
      },
      "execution_count": null,
      "outputs": []
    },
    {
      "cell_type": "code",
      "source": [
        "model2=GaussianNB()"
      ],
      "metadata": {
        "id": "bnAt5eOprCTv"
      },
      "execution_count": null,
      "outputs": []
    },
    {
      "cell_type": "code",
      "source": [
        "model2.fit(X_train_sc,y_train)"
      ],
      "metadata": {
        "colab": {
          "base_uri": "https://localhost:8080/"
        },
        "id": "iX6BrGy8rFhD",
        "outputId": "92066358-f98f-437c-e47b-4eff84acf7cb"
      },
      "execution_count": null,
      "outputs": [
        {
          "output_type": "execute_result",
          "data": {
            "text/plain": [
              "GaussianNB()"
            ]
          },
          "metadata": {},
          "execution_count": 109
        }
      ]
    },
    {
      "cell_type": "code",
      "source": [
        "y_pred2=model2.predict(X_test_sc)"
      ],
      "metadata": {
        "id": "1TwZgTz_rP8J"
      },
      "execution_count": null,
      "outputs": []
    },
    {
      "cell_type": "code",
      "source": [
        "print(classification_report(y_test,y_pred2))"
      ],
      "metadata": {
        "colab": {
          "base_uri": "https://localhost:8080/"
        },
        "id": "xHxSzQBbrd7W",
        "outputId": "4764a7b2-763c-4421-9418-c4a91a18b989"
      },
      "execution_count": null,
      "outputs": [
        {
          "output_type": "stream",
          "name": "stdout",
          "text": [
            "              precision    recall  f1-score   support\n",
            "\n",
            "         0.0       0.82      0.79      0.81      3286\n",
            "         1.0       0.54      0.60      0.57      1377\n",
            "\n",
            "    accuracy                           0.73      4663\n",
            "   macro avg       0.68      0.69      0.69      4663\n",
            "weighted avg       0.74      0.73      0.74      4663\n",
            "\n"
          ]
        }
      ]
    },
    {
      "cell_type": "code",
      "source": [
        "from sklearn.neighbors import KNeighborsClassifier"
      ],
      "metadata": {
        "id": "BCxvlWeirqTe"
      },
      "execution_count": null,
      "outputs": []
    },
    {
      "cell_type": "code",
      "source": [
        "model3=KNeighborsClassifier()"
      ],
      "metadata": {
        "id": "WeKdlrGVsIkA"
      },
      "execution_count": null,
      "outputs": []
    },
    {
      "cell_type": "code",
      "source": [
        "model3.fit(X_train_sc,y_train)"
      ],
      "metadata": {
        "colab": {
          "base_uri": "https://localhost:8080/"
        },
        "id": "Aqz0iYHRsM-h",
        "outputId": "cf6e4704-4bf0-48f4-a8fd-3a132c6ee090"
      },
      "execution_count": null,
      "outputs": [
        {
          "output_type": "execute_result",
          "data": {
            "text/plain": [
              "KNeighborsClassifier()"
            ]
          },
          "metadata": {},
          "execution_count": 114
        }
      ]
    },
    {
      "cell_type": "code",
      "source": [
        "y_pred3=model3.predict(X_test_sc)"
      ],
      "metadata": {
        "id": "5q3slKiHsR_h"
      },
      "execution_count": null,
      "outputs": []
    },
    {
      "cell_type": "code",
      "source": [
        "print(classification_report(y_test,y_pred3))"
      ],
      "metadata": {
        "colab": {
          "base_uri": "https://localhost:8080/"
        },
        "id": "dDgbQiHCsayb",
        "outputId": "f6530b6e-1ad6-47ab-8087-2c118f0040ec"
      },
      "execution_count": null,
      "outputs": [
        {
          "output_type": "stream",
          "name": "stdout",
          "text": [
            "              precision    recall  f1-score   support\n",
            "\n",
            "         0.0       0.94      0.98      0.96      3286\n",
            "         1.0       0.94      0.84      0.89      1377\n",
            "\n",
            "    accuracy                           0.94      4663\n",
            "   macro avg       0.94      0.91      0.92      4663\n",
            "weighted avg       0.94      0.94      0.94      4663\n",
            "\n"
          ]
        }
      ]
    },
    {
      "cell_type": "code",
      "source": [
        "from sklearn.tree import DecisionTreeClassifier"
      ],
      "metadata": {
        "id": "IO_R8P-rshyv"
      },
      "execution_count": null,
      "outputs": []
    },
    {
      "cell_type": "code",
      "source": [
        "model4=DecisionTreeClassifier()"
      ],
      "metadata": {
        "id": "5mGLNx14srMH"
      },
      "execution_count": null,
      "outputs": []
    },
    {
      "cell_type": "code",
      "source": [
        "model4.fit(X_train_sc,y_train)"
      ],
      "metadata": {
        "colab": {
          "base_uri": "https://localhost:8080/"
        },
        "id": "Y2qiZ3bss0uF",
        "outputId": "32b9a95f-52b6-45db-9232-670ed0d71ad6"
      },
      "execution_count": null,
      "outputs": [
        {
          "output_type": "execute_result",
          "data": {
            "text/plain": [
              "DecisionTreeClassifier()"
            ]
          },
          "metadata": {},
          "execution_count": 119
        }
      ]
    },
    {
      "cell_type": "code",
      "source": [
        "y_pred4=model4.predict(X_test_sc)"
      ],
      "metadata": {
        "id": "rP4ZBCxBs9op"
      },
      "execution_count": null,
      "outputs": []
    },
    {
      "cell_type": "code",
      "source": [
        "print(classification_report(y_test,y_pred4))"
      ],
      "metadata": {
        "colab": {
          "base_uri": "https://localhost:8080/"
        },
        "id": "TXvu3q7TtKc1",
        "outputId": "b3d08af2-8cc1-425d-d0c7-b6f687e4a0a8"
      },
      "execution_count": null,
      "outputs": [
        {
          "output_type": "stream",
          "name": "stdout",
          "text": [
            "              precision    recall  f1-score   support\n",
            "\n",
            "         0.0       0.99      0.99      0.99      3286\n",
            "         1.0       0.98      0.98      0.98      1377\n",
            "\n",
            "    accuracy                           0.99      4663\n",
            "   macro avg       0.98      0.98      0.98      4663\n",
            "weighted avg       0.99      0.99      0.99      4663\n",
            "\n"
          ]
        }
      ]
    },
    {
      "cell_type": "code",
      "source": [
        "\n",
        "from sklearn import tree"
      ],
      "metadata": {
        "id": "mBlg_fC5tQZz"
      },
      "execution_count": null,
      "outputs": []
    },
    {
      "cell_type": "code",
      "source": [
        "plt.figure(figsize=(10,10))\n",
        "tree.plot_tree(model4,filled=True)\n",
        "plt.show()"
      ],
      "metadata": {
        "colab": {
          "base_uri": "https://localhost:8080/",
          "height": 575
        },
        "id": "XG9m0xwFtci8",
        "outputId": "bd93c1cc-eb6b-4586-d9b0-f3aff5c43704"
      },
      "execution_count": null,
      "outputs": [
        {
          "output_type": "display_data",
          "data": {
            "text/plain": [
              "<Figure size 720x720 with 1 Axes>"
            ],
            "image/png": "[encoded data removed]"
          },
          "metadata": {
            "needs_background": "light"
          }
        }
      ]
    },
    {
      "cell_type": "code",
      "source": [
        "from sklearn.ensemble import RandomForestClassifier,AdaBoostClassifier"
      ],
      "metadata": {
        "id": "T0hQqsB4t6B1"
      },
      "execution_count": null,
      "outputs": []
    },
    {
      "cell_type": "code",
      "source": [
        "model5=RandomForestClassifier()"
      ],
      "metadata": {
        "id": "NIfnYKmquO-w"
      },
      "execution_count": null,
      "outputs": []
    },
    {
      "cell_type": "code",
      "source": [
        "model5.fit(X_train_sc,y_train)"
      ],
      "metadata": {
        "colab": {
          "base_uri": "https://localhost:8080/"
        },
        "id": "Obn6bWCquXgs",
        "outputId": "f39607cf-5a67-44aa-d063-0648017b2b24"
      },
      "execution_count": null,
      "outputs": [
        {
          "output_type": "execute_result",
          "data": {
            "text/plain": [
              "RandomForestClassifier()"
            ]
          },
          "metadata": {},
          "execution_count": 126
        }
      ]
    },
    {
      "cell_type": "code",
      "source": [
        "y_pred5=model5.predict(X_test_sc)"
      ],
      "metadata": {
        "id": "3TDhQ5C6uc9h"
      },
      "execution_count": null,
      "outputs": []
    },
    {
      "cell_type": "code",
      "source": [
        "print(classification_report(y_test,y_pred5))"
      ],
      "metadata": {
        "colab": {
          "base_uri": "https://localhost:8080/"
        },
        "id": "H05vwr04ui-q",
        "outputId": "9e2fb10b-5485-42a9-f132-1a16abc49e39"
      },
      "execution_count": null,
      "outputs": [
        {
          "output_type": "stream",
          "name": "stdout",
          "text": [
            "              precision    recall  f1-score   support\n",
            "\n",
            "         0.0       0.99      0.99      0.99      3286\n",
            "         1.0       0.97      0.98      0.98      1377\n",
            "\n",
            "    accuracy                           0.99      4663\n",
            "   macro avg       0.98      0.99      0.98      4663\n",
            "weighted avg       0.99      0.99      0.99      4663\n",
            "\n"
          ]
        }
      ]
    },
    {
      "cell_type": "code",
      "source": [
        "model6=AdaBoostClassifier()"
      ],
      "metadata": {
        "id": "iNj94jIFuqmx"
      },
      "execution_count": null,
      "outputs": []
    },
    {
      "cell_type": "code",
      "source": [
        "model6.fit(X_train_sc,y_train)"
      ],
      "metadata": {
        "colab": {
          "base_uri": "https://localhost:8080/"
        },
        "id": "V9K-f8hruxM9",
        "outputId": "2178e0a9-79e5-4a7a-d3be-7dfce521b471"
      },
      "execution_count": null,
      "outputs": [
        {
          "output_type": "execute_result",
          "data": {
            "text/plain": [
              "AdaBoostClassifier()"
            ]
          },
          "metadata": {},
          "execution_count": 130
        }
      ]
    },
    {
      "cell_type": "code",
      "source": [
        "y_pred6=model6.predict(X_test_sc)"
      ],
      "metadata": {
        "id": "urlrNDBuu1lc"
      },
      "execution_count": null,
      "outputs": []
    },
    {
      "cell_type": "code",
      "source": [
        "print(classification_report(y_test,y_pred6))"
      ],
      "metadata": {
        "colab": {
          "base_uri": "https://localhost:8080/"
        },
        "id": "XWA7dMVHu9gw",
        "outputId": "84c2ad50-77f1-4e49-d7c2-f617ba6f7992"
      },
      "execution_count": null,
      "outputs": [
        {
          "output_type": "stream",
          "name": "stdout",
          "text": [
            "              precision    recall  f1-score   support\n",
            "\n",
            "         0.0       0.98      0.98      0.98      3286\n",
            "         1.0       0.95      0.95      0.95      1377\n",
            "\n",
            "    accuracy                           0.97      4663\n",
            "   macro avg       0.97      0.97      0.97      4663\n",
            "weighted avg       0.97      0.97      0.97      4663\n",
            "\n"
          ]
        }
      ]
    },
    {
      "cell_type": "code",
      "source": [
        "model5.predict([[239,2,5178.72,400705.00,395526.28,0.00,0.00]])"
      ],
      "metadata": {
        "colab": {
          "base_uri": "https://localhost:8080/"
        },
        "id": "BmD-cs9CNPMI",
        "outputId": "89b92030-06d2-445b-b7ed-405265f09277"
      },
      "execution_count": null,
      "outputs": [
        {
          "output_type": "execute_result",
          "data": {
            "text/plain": [
              "array([0.])"
            ]
          },
          "metadata": {},
          "execution_count": 133
        }
      ]
    },
    {
      "cell_type": "code",
      "source": [
        "model5.predict([[369,0,89596.79,89596.79,0.0,0.00,89596.79]])"
      ],
      "metadata": {
        "id": "65vn2iELNl96",
        "colab": {
          "base_uri": "https://localhost:8080/"
        },
        "outputId": "495eaaa7-4132-4167-e3dd-97019cd21a3e"
      },
      "execution_count": null,
      "outputs": [
        {
          "output_type": "execute_result",
          "data": {
            "text/plain": [
              "array([0.])"
            ]
          },
          "metadata": {},
          "execution_count": 134
        }
      ]
    },
    {
      "cell_type": "code",
      "source": [
        "import pickle "
      ],
      "metadata": {
        "id": "jNtgB16dxFMo"
      },
      "execution_count": null,
      "outputs": []
    },
    {
      "cell_type": "code",
      "source": [],
      "metadata": {
        "id": "4XdaYrtzWM_4"
      },
      "execution_count": null,
      "outputs": []
    },
    {
      "cell_type": "code",
      "source": [],
      "metadata": {
        "id": "3BvBn62lWwO_"
      },
      "execution_count": null,
      "outputs": []
    },
    {
      "cell_type": "code",
      "source": [],
      "metadata": {
        "id": "Y7XIlPXwW_F2"
      },
      "execution_count": null,
      "outputs": []
    },
    {
      "cell_type": "code",
      "source": [
        "\n",
        "pickle_out = open(\"model5.pkl\",\"wb\")\n",
        "pickle.dump(model5, pickle_out)\n",
        "pickle_out.close()"
      ],
      "metadata": {
        "id": "p_Rjuxksak2w"
      },
      "execution_count": 141,
      "outputs": []
    },
    {
      "cell_type": "code",
      "source": [],
      "metadata": {
        "id": "6QDuFw9_5sBI"
      },
      "execution_count": null,
      "outputs": []
    }
  ]
}